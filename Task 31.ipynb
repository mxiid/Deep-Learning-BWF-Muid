{
 "cells": [
  {
   "attachments": {},
   "cell_type": "markdown",
   "metadata": {},
   "source": [
    "## Task 31"
   ]
  },
  {
   "attachments": {},
   "cell_type": "markdown",
   "metadata": {},
   "source": [
    "### One-Hot Encoding and Word Embeddings"
   ]
  },
  {
   "cell_type": "code",
   "execution_count": 1,
   "metadata": {},
   "outputs": [
    {
     "name": "stdout",
     "output_type": "stream",
     "text": [
      "Epoch 1/10\n",
      "1/1 [==============================] - 1s 947ms/step - loss: 0.7002 - accuracy: 0.3333 - val_loss: 0.6866 - val_accuracy: 1.0000\n",
      "Epoch 2/10\n",
      "1/1 [==============================] - 0s 27ms/step - loss: 0.6963 - accuracy: 0.3333 - val_loss: 0.6859 - val_accuracy: 1.0000\n",
      "Epoch 3/10\n",
      "1/1 [==============================] - 0s 27ms/step - loss: 0.6926 - accuracy: 0.3333 - val_loss: 0.6851 - val_accuracy: 1.0000\n",
      "Epoch 4/10\n",
      "1/1 [==============================] - 0s 28ms/step - loss: 0.6891 - accuracy: 0.3333 - val_loss: 0.6843 - val_accuracy: 1.0000\n",
      "Epoch 5/10\n",
      "1/1 [==============================] - 0s 28ms/step - loss: 0.6855 - accuracy: 0.6667 - val_loss: 0.6833 - val_accuracy: 1.0000\n",
      "Epoch 6/10\n",
      "1/1 [==============================] - 0s 26ms/step - loss: 0.6822 - accuracy: 0.6667 - val_loss: 0.6823 - val_accuracy: 1.0000\n",
      "Epoch 7/10\n",
      "1/1 [==============================] - 0s 31ms/step - loss: 0.6799 - accuracy: 0.6667 - val_loss: 0.6813 - val_accuracy: 1.0000\n",
      "Epoch 8/10\n",
      "1/1 [==============================] - 0s 31ms/step - loss: 0.6777 - accuracy: 0.6667 - val_loss: 0.6803 - val_accuracy: 1.0000\n",
      "Epoch 9/10\n",
      "1/1 [==============================] - 0s 32ms/step - loss: 0.6756 - accuracy: 0.6667 - val_loss: 0.6792 - val_accuracy: 1.0000\n",
      "Epoch 10/10\n",
      "1/1 [==============================] - 0s 47ms/step - loss: 0.6734 - accuracy: 0.6667 - val_loss: 0.6781 - val_accuracy: 1.0000\n",
      "1/1 [==============================] - 0s 68ms/step\n",
      "Predicted sentiment: Positive\n"
     ]
    }
   ],
   "source": [
    "from tensorflow.keras.preprocessing.text import Tokenizer\n",
    "from tensorflow.keras.preprocessing.sequence import pad_sequences\n",
    "from tensorflow.keras.models import Sequential\n",
    "from tensorflow.keras.layers import Embedding, Flatten, Dense\n",
    "from sklearn.model_selection import train_test_split\n",
    "import numpy as np\n",
    "\n",
    "# Sample data\n",
    "texts = [\n",
    "    'I love coding',\n",
    "    'Machine learning is fascinating',\n",
    "    'Python is my favorite programming language',\n",
    "    'Deep learning is a subset of machine learning'\n",
    "]\n",
    "labels = np.array([1, 1, 0, 1])  # 1 for positive sentiment, 0 for negative sentiment\n",
    "\n",
    "# Tokenize the text\n",
    "tokenizer = Tokenizer(num_words=1000)\n",
    "tokenizer.fit_on_texts(texts)\n",
    "sequences = tokenizer.texts_to_sequences(texts)\n",
    "\n",
    "# Pad sequences\n",
    "maxlen = 10\n",
    "padded_sequences = pad_sequences(sequences, maxlen=maxlen)\n",
    "\n",
    "# Convert labels to one-hot encoding\n",
    "one_hot_labels = np.zeros((labels.shape[0], 2))\n",
    "one_hot_labels[np.arange(labels.shape[0]), labels] = 1\n",
    "\n",
    "# Split the data into training and testing sets\n",
    "X_train, X_test, y_train, y_test = train_test_split(\n",
    "    padded_sequences, one_hot_labels, test_size=0.2, random_state=42\n",
    ")\n",
    "\n",
    "# Create the model\n",
    "model = Sequential()\n",
    "model.add(Embedding(1000, 8, input_length=maxlen))\n",
    "model.add(Flatten())\n",
    "model.add(Dense(16, activation='relu'))\n",
    "model.add(Dense(2, activation='softmax'))\n",
    "\n",
    "# Compile and train the model\n",
    "model.compile(optimizer='adam', loss='binary_crossentropy', metrics=['accuracy'])\n",
    "model.fit(X_train, y_train, epochs=10, batch_size=32, validation_data=(X_test, y_test))\n",
    "\n",
    "# Make predictions\n",
    "test_text = ['I enjoy programming']\n",
    "test_sequence = tokenizer.texts_to_sequences(test_text)\n",
    "test_padded_sequence = pad_sequences(test_sequence, maxlen=maxlen)\n",
    "predictions = model.predict(test_padded_sequence)\n",
    "sentiment = np.argmax(predictions[0])\n",
    "\n",
    "# Map sentiment to label\n",
    "sentiment_label = 'Positive' if sentiment == 1 else 'Negative'\n",
    "print('Predicted sentiment:', sentiment_label)\n"
   ]
  }
 ],
 "metadata": {
  "kernelspec": {
   "display_name": "Python 3",
   "language": "python",
   "name": "python3"
  },
  "language_info": {
   "codemirror_mode": {
    "name": "ipython",
    "version": 3
   },
   "file_extension": ".py",
   "mimetype": "text/x-python",
   "name": "python",
   "nbconvert_exporter": "python",
   "pygments_lexer": "ipython3",
   "version": "3.11.1"
  },
  "orig_nbformat": 4
 },
 "nbformat": 4,
 "nbformat_minor": 2
}
