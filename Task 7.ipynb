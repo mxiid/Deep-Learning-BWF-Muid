{
 "cells": [
  {
   "attachments": {},
   "cell_type": "markdown",
   "metadata": {},
   "source": [
    ">## Task 7"
   ]
  },
  {
   "attachments": {},
   "cell_type": "markdown",
   "metadata": {},
   "source": [
    "### Exercise 8.1: Message.\n",
    "#### *Write a function called ```display_message()``` that prints one sentence telling everyone what you are learning about in this chapter. Call the function, and make sure the message displays correctly.*"
   ]
  },
  {
   "cell_type": "code",
   "execution_count": 1,
   "metadata": {},
   "outputs": [
    {
     "name": "stdout",
     "output_type": "stream",
     "text": [
      "I am learning to use the function!\n",
      "This is fun!\n"
     ]
    }
   ],
   "source": [
    "def displayMessage():\n",
    "    print(\"I am learning to use the function!\")\n",
    "    print(\"This is fun!\")\n",
    "\n",
    "displayMessage()"
   ]
  },
  {
   "attachments": {},
   "cell_type": "markdown",
   "metadata": {},
   "source": [
    "### Exercise 8.2: Favorite Book.\n",
    "#### *Write a function called ```favorite_book()``` that accepts one parameter, ```title```. The function should print a message, such as One of my favorite books is Alice in Wonderland. Call the function, making sure to include a book title as an argument in the function call.*"
   ]
  },
  {
   "cell_type": "code",
   "execution_count": 2,
   "metadata": {},
   "outputs": [
    {
     "name": "stdout",
     "output_type": "stream",
     "text": [
      "One of my favorite books is Kafka on the Shore\n"
     ]
    }
   ],
   "source": [
    "def favoriteBook(title):\n",
    "    print(\"One of my favorite books is \" + title)\n",
    "\n",
    "favoriteBook(\"Kafka on the Shore\")"
   ]
  },
  {
   "attachments": {},
   "cell_type": "markdown",
   "metadata": {},
   "source": [
    "### Exercise 8.3: T-Shirt.\n",
    "#### *Write a function called ```make_shirt()``` that accepts a size and the text of a message that should be printed on the shirt. The function should print a sentence summarizing the size of the shirt and the message printed on it. Call the function once using positional arguments to make a shirt. <br>Call the function a second time using keyword arguments.*"
   ]
  },
  {
   "cell_type": "code",
   "execution_count": 3,
   "metadata": {},
   "outputs": [
    {
     "name": "stdout",
     "output_type": "stream",
     "text": [
      "The shirt will be a large and will say I ♥ Bytewise\n",
      "The shirt will be a large and will say I ♥ Bytewise\n"
     ]
    }
   ],
   "source": [
    "def makeShirt(size, message):\n",
    "    print(\"The shirt will be a \" + size + \" and will say \" + message)\n",
    "\n",
    "makeShirt(\"large\", \"I ♥ Bytewise\")\n",
    "makeShirt(message=\"I ♥ Bytewise\", size=\"large\")"
   ]
  },
  {
   "attachments": {},
   "cell_type": "markdown",
   "metadata": {},
   "source": [
    "### Exercise 8.4: Large Shirts.\n",
    "#### *Modify the ```make_shirt()``` function so that shirts are large by default with a message that reads I love Python. Make a large shirt and a medium shirt with the default message, and a shirt of any size with a different message.*"
   ]
  },
  {
   "cell_type": "code",
   "execution_count": 4,
   "metadata": {},
   "outputs": [
    {
     "name": "stdout",
     "output_type": "stream",
     "text": [
      "The shirt will be a large and will say I love Python\n",
      "The shirt will be a medium and will say I love Python\n",
      "The shirt will be a small and will say Programmers are cool!\n"
     ]
    }
   ],
   "source": [
    "def makeShirt(size=\"large\", message=\"I love Python\"):\n",
    "    print(\"The shirt will be a \" + size + \" and will say \" + message)\n",
    "\n",
    "makeShirt()\n",
    "makeShirt(size=\"medium\")\n",
    "makeShirt(\"small\", \"Programmers are cool!\")"
   ]
  },
  {
   "attachments": {},
   "cell_type": "markdown",
   "metadata": {},
   "source": [
    "### Exercise 8.5: Cities.\n",
    "#### *Write a function called ```describe_city()``` that accepts the name of a city and its country. The function should print a simple sentence, such as Reykjavik is in Iceland. Give the parameter for the country a default value. Call your function for three different cities, at least one of which is not in the default country.*"
   ]
  },
  {
   "cell_type": "code",
   "execution_count": 5,
   "metadata": {},
   "outputs": [
    {
     "name": "stdout",
     "output_type": "stream",
     "text": [
      "New York is in USA\n",
      "Paris is in France\n",
      "Tokyo is in Japan\n"
     ]
    }
   ],
   "source": [
    "def describeCity(city, country=\"USA\"):\n",
    "    print(city + \" is in \" + country)\n",
    "\n",
    "describeCity(\"New York\")\n",
    "describeCity(\"Paris\", \"France\")\n",
    "describeCity(\"Tokyo\", \"Japan\")"
   ]
  },
  {
   "attachments": {},
   "cell_type": "markdown",
   "metadata": {},
   "source": [
    "### Exercise 8.6: City Names.\n",
    "#### *Write a function called ```city_country()``` that takes in the name of a city and its country. The function should return a string formatted like this: <br>\"Santiago, Chile\" <br>Call your function with at least three city-country pairs, and print the value that’s returned.*"
   ]
  },
  {
   "cell_type": "code",
   "execution_count": 6,
   "metadata": {},
   "outputs": [
    {
     "name": "stdout",
     "output_type": "stream",
     "text": [
      "New York, Usa\n",
      "Paris, France\n",
      "Tokyo, Japan\n"
     ]
    }
   ],
   "source": [
    "def cityCountry(city, country):\n",
    "    return f\"{city.title()}, {country.title()}\"\n",
    "\n",
    "print(cityCountry(\"new york\", \"usa\"))\n",
    "print(cityCountry(\"paris\", \"france\"))\n",
    "print(cityCountry(\"tokyo\", \"japan\"))"
   ]
  },
  {
   "attachments": {},
   "cell_type": "markdown",
   "metadata": {},
   "source": [
    "### Exercise 8.7: Album.\n",
    "#### *Write a function called ```make_album()``` that builds a dictionary describing a music album. The function should take in an artist name and an album title, and it should return a dictionary containing these two pieces of information. Use the function to make three dictionaries representing different albums. Print each return value to show that the dictionaries are storing the album information correctly. <br>Add an optional parameter to ```make_album()``` that allows you to store the number of tracks on an album. If the calling line includes a value for the number of tracks, add that value to the album’s dictionary. Make at least one new function call that includes the number of tracks on an album.*"
   ]
  },
  {
   "cell_type": "code",
   "execution_count": 7,
   "metadata": {},
   "outputs": [
    {
     "name": "stdout",
     "output_type": "stream",
     "text": [
      "{'artist': 'The Beatles', 'title': 'Abbey Road'}\n",
      "{'artist': 'The Weeknd', 'title': 'Starboy'}\n",
      "{'artist': 'The Weeknd', 'title': 'Beauty Behind the Madness'}\n"
     ]
    }
   ],
   "source": [
    "def makeAlbum(artist, title):\n",
    "    return {\"artist\": artist, \"title\": title}\n",
    "\n",
    "album=makeAlbum(\"The Beatles\", \"Abbey Road\")\n",
    "print(album)\n",
    "\n",
    "album=makeAlbum(\"The Weeknd\", \"Starboy\")\n",
    "print(album)\n",
    "\n",
    "album=makeAlbum(\"The Weeknd\", \"Beauty Behind the Madness\")\n",
    "print(album)"
   ]
  },
  {
   "cell_type": "code",
   "execution_count": 8,
   "metadata": {},
   "outputs": [
    {
     "name": "stdout",
     "output_type": "stream",
     "text": [
      "{'artist': 'The Beatles', 'title': 'Abbey Road', 'tracks': 17}\n",
      "{'artist': 'The Weeknd', 'title': 'Starboy', 'tracks': 18}\n",
      "{'artist': 'The Weeknd', 'title': 'Beauty Behind the Madness', 'tracks': 18}\n"
     ]
    }
   ],
   "source": [
    "def makeAlbum(artist, title, tracks=None):\n",
    "    album = {\"artist\": artist, \"title\": title}\n",
    "    if tracks:\n",
    "        album[\"tracks\"] = tracks\n",
    "    return album\n",
    "\n",
    "album=makeAlbum(\"The Beatles\", \"Abbey Road\", 17)\n",
    "print(album)\n",
    "\n",
    "album=makeAlbum(\"The Weeknd\", \"Starboy\", 18)\n",
    "print(album)\n",
    "\n",
    "album=makeAlbum(\"The Weeknd\", \"Beauty Behind the Madness\", 18)\n",
    "print(album)"
   ]
  },
  {
   "attachments": {},
   "cell_type": "markdown",
   "metadata": {},
   "source": [
    "### Exercise 8.8: User Albums.\n",
    "#### *Start with your program from Exercise 8.7. Write a while loop that allows users to enter an album’s artist and title. Once you have that information, call ```make_album()``` with the user’s input and print the dictionary that’s created. Be sure to include a quit value in the while loop.*"
   ]
  },
  {
   "cell_type": "code",
   "execution_count": 9,
   "metadata": {},
   "outputs": [
    {
     "name": "stdout",
     "output_type": "stream",
     "text": [
      "Enter 'q' at any time to quit.\n",
      "{'artist': 'The Weeknd', 'title': 'Starboy'}\n",
      "{'artist': 'Kendrick Lamar', 'title': 'DAMN'}\n",
      "{'artist': 'Joji', 'title': 'Smithereens'}\n",
      "\n",
      "Thanks for using the program!\n"
     ]
    }
   ],
   "source": [
    "def makeAlbum(artist, title, tracks=None):\n",
    "    album = {\"artist\": artist, \"title\": title}\n",
    "    if tracks:\n",
    "        album[\"tracks\"] = tracks\n",
    "    return album\n",
    "\n",
    "print(\"Enter 'q' at any time to quit.\")\n",
    "\n",
    "while True:\n",
    "    title=input(\"Enter the title of the album: \")\n",
    "    if title == \"q\":\n",
    "        break\n",
    "    artist=input(\"Enter the artist of the album: \")\n",
    "    if artist == \"q\":\n",
    "        break\n",
    "    album=makeAlbum(artist, title)\n",
    "    print(album)\n",
    "\n",
    "print(\"\\nThanks for using the program!\")"
   ]
  },
  {
   "attachments": {},
   "cell_type": "markdown",
   "metadata": {},
   "source": [
    "### Exercise 8.9: Magicians.\n",
    "#### *Make a list of magician’s names. Pass the list to a function called ```show_magicians()```, which prints the name of each magician in the list.*"
   ]
  },
  {
   "cell_type": "code",
   "execution_count": 10,
   "metadata": {},
   "outputs": [
    {
     "name": "stdout",
     "output_type": "stream",
     "text": [
      "David Copperfield\n",
      "David Blaine\n",
      "Criss Angel\n"
     ]
    }
   ],
   "source": [
    "def showMagicians(magicians):\n",
    "    for magician in magicians:\n",
    "        print(magician)\n",
    "\n",
    "magicians=[\"David Copperfield\", \"David Blaine\", \"Criss Angel\"]\n",
    "showMagicians(magicians)"
   ]
  },
  {
   "attachments": {},
   "cell_type": "markdown",
   "metadata": {},
   "source": [
    "### Exercise 8.10: Great Magicians.\n",
    "#### *Start with a copy of your program from Exercise 8.9. Write a function called ```make_great()``` that modifies the list of magicians by adding the phrase the Great to each magician’s name. Call ```show_magicians()``` to see that the list has actually been modified.*"
   ]
  },
  {
   "cell_type": "code",
   "execution_count": 12,
   "metadata": {},
   "outputs": [
    {
     "name": "stdout",
     "output_type": "stream",
     "text": [
      "Criss Angel the Great\n",
      "David Blaine the Great\n",
      "David Copperfield the Great\n"
     ]
    }
   ],
   "source": [
    "def showMagicians(magicians):\n",
    "    for magician in magicians:\n",
    "        print(magician)\n",
    "\n",
    "def makeGreat(magicians):\n",
    "    greatMagicians=[]\n",
    "    while magicians:\n",
    "        magician=magicians.pop()\n",
    "        greatMagician=magician + \" the Great\"\n",
    "        greatMagicians.append(greatMagician)\n",
    "    for greatMagician in greatMagicians:\n",
    "        magicians.append(greatMagician)\n",
    "\n",
    "magicians=[\"David Copperfield\", \"David Blaine\", \"Criss Angel\"]\n",
    "makeGreat(magicians)\n",
    "showMagicians(magicians)"
   ]
  },
  {
   "attachments": {},
   "cell_type": "markdown",
   "metadata": {},
   "source": [
    "### Exercise 8.11: Unchanged Magicians.\n",
    "#### *Start with your work from Exercise 8.10. Call the function ```make_great()``` with a copy of the list of magicians’ names. Because the original list will be unchanged, return the new list and store it in a separate list. Call ```show_magicians()``` with each list to show that you have one list of the original names and one list with the Great added to each magician’s name.*"
   ]
  },
  {
   "cell_type": "code",
   "execution_count": 13,
   "metadata": {},
   "outputs": [
    {
     "name": "stdout",
     "output_type": "stream",
     "text": [
      "David Copperfield\n",
      "David Blaine\n",
      "Criss Angel\n",
      "Criss Angel the Great\n",
      "David Blaine the Great\n",
      "David Copperfield the Great\n"
     ]
    }
   ],
   "source": [
    "def showMagicians(magicians, greatMagicians):\n",
    "    for magician in magicians:\n",
    "        print(magician)\n",
    "    for greatMagician in greatMagicians:\n",
    "        print(greatMagician)\n",
    "\n",
    "greatMagicians = []\n",
    "def makeGreat(magicians):\n",
    "    while magicians:\n",
    "        magician = magicians.pop()\n",
    "        greatMagician = magician + \" the Great\"\n",
    "        greatMagicians.append(greatMagician)\n",
    "    for greatMagician in greatMagicians:\n",
    "        magicians.append(greatMagician)\n",
    "\n",
    "\n",
    "magicians = [\"David Copperfield\", \"David Blaine\", \"Criss Angel\"]\n",
    "makeGreat(magicians[:])\n",
    "showMagicians(magicians, greatMagicians)\n"
   ]
  },
  {
   "attachments": {},
   "cell_type": "markdown",
   "metadata": {},
   "source": [
    "### Exercise 8.12: Sandwiches.\n",
    "#### *Write a function that accepts a list of items a person wants on a sandwich. The function should have one parameter that collects as many items as the function call provides, and it should print a summary of the sandwich that’s being ordered. Call the function three times, using a different number of arguments each time.*"
   ]
  },
  {
   "cell_type": "code",
   "execution_count": 14,
   "metadata": {},
   "outputs": [
    {
     "name": "stdout",
     "output_type": "stream",
     "text": [
      "\n",
      " Making a sandwich with the following ingredients:\n",
      "- chicken\n",
      "- lettuce\n",
      "- tomato\n",
      "Your sandwich is ready!\n",
      "\n",
      " Making a sandwich with the following ingredients:\n",
      "- pepperoni\n",
      "- cheese\n",
      "Your sandwich is ready!\n",
      "\n",
      " Making a sandwich with the following ingredients:\n",
      "- salami\n",
      "- cheese\n",
      "- onion\n",
      "- tomato\n",
      "Your sandwich is ready!\n"
     ]
    }
   ],
   "source": [
    "def makeSandwich(*ingredients):\n",
    "    print(\"\\n Making a sandwich with the following ingredients:\")\n",
    "    for ingredient in ingredients:\n",
    "        print(\"- \" + ingredient)\n",
    "    print(\"Your sandwich is ready!\")\n",
    "\n",
    "makeSandwich(\"chicken\", \"lettuce\", \"tomato\")\n",
    "makeSandwich(\"pepperoni\", \"cheese\")\n",
    "makeSandwich(\"salami\", \"cheese\", \"onion\", \"tomato\")"
   ]
  },
  {
   "attachments": {},
   "cell_type": "markdown",
   "metadata": {},
   "source": [
    "### Exercise 8.13: User Profile.\n",
    "#### *Start with a copy of user_profile.py from page 153. Build a profile of yourself by calling ```build_profile()```, using your first and last names and three other key-value pairs that describe you.*"
   ]
  },
  {
   "cell_type": "code",
   "execution_count": 15,
   "metadata": {},
   "outputs": [
    {
     "name": "stdout",
     "output_type": "stream",
     "text": [
      "{'first_name': 'Muid', 'last_name': 'Bin Aslam', 'university': 'Bahria University', 'major': 'Computer Science', 'fieldOfInterest': 'Data Science'}\n"
     ]
    }
   ],
   "source": [
    "def build_profile(first, last, **user_info):\n",
    "    profile = {}\n",
    "    profile['first_name'] = first\n",
    "    profile['last_name'] = last\n",
    "    for key, value in user_info.items():\n",
    "        profile[key] = value\n",
    "    return profile\n",
    "\n",
    "user_profile = build_profile('Muid', 'Bin Aslam', university='Bahria University', major='Computer Science', fieldOfInterest='Data Science')\n",
    "print(user_profile)"
   ]
  },
  {
   "attachments": {},
   "cell_type": "markdown",
   "metadata": {},
   "source": [
    "### Exercise 8.14: Cars.\n",
    "#### *Write a function that stores information about a car in a dictionary. The function should always receive a manufacturer and a model name. It should then accept an arbitrary number of keyword arguments. Call the function with the required information and two other name-value pairs, such as a color or an optional feature. Your function should work for a call like this one: <br>```car = make_car('subaru', 'outback', color='blue', tow_package=True)``` <br>Print the dictionary that’s returned to make sure all the information was stored correctly.*"
   ]
  },
  {
   "cell_type": "code",
   "execution_count": 16,
   "metadata": {},
   "outputs": [
    {
     "name": "stdout",
     "output_type": "stream",
     "text": [
      "{'manufacturer': 'subaru', 'model': 'outback', 'color': 'blue', 'tow_package': True}\n",
      "{'manufacturer': 'ferrari', 'model': 'f8', 'color': 'red', 'year': 2020, 'price': 300000}\n"
     ]
    }
   ],
   "source": [
    "def makeCar(manufacturer, model, **options):\n",
    "    car = {}\n",
    "    car['manufacturer'] = manufacturer\n",
    "    car['model'] = model\n",
    "    for key, value in options.items():\n",
    "        car[key] = value\n",
    "    return car\n",
    "\n",
    "car = makeCar('subaru', 'outback', color='blue', tow_package=True)\n",
    "print(car)\n",
    "\n",
    "car=makeCar('ferrari', 'f8', color='red', year=2020, price=300000)\n",
    "print(car)"
   ]
  }
 ],
 "metadata": {
  "kernelspec": {
   "display_name": "Python 3",
   "language": "python",
   "name": "python3"
  },
  "language_info": {
   "codemirror_mode": {
    "name": "ipython",
    "version": 3
   },
   "file_extension": ".py",
   "mimetype": "text/x-python",
   "name": "python",
   "nbconvert_exporter": "python",
   "pygments_lexer": "ipython3",
   "version": "3.11.1"
  },
  "orig_nbformat": 4
 },
 "nbformat": 4,
 "nbformat_minor": 2
}
