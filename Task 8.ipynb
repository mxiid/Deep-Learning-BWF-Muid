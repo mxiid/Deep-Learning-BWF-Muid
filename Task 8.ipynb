{
 "cells": [
  {
   "attachments": {},
   "cell_type": "markdown",
   "metadata": {},
   "source": [
    ">## Task 8"
   ]
  },
  {
   "attachments": {},
   "cell_type": "markdown",
   "metadata": {},
   "source": [
    "### Exercise 9.1: Restaurant.\n",
    "#### *Make a class called ```Restaurant``` . The ```__init__()``` method for ```Restaurant``` should store two attributes: a restaurant_name and a cuisine_type. Make a method called ```describe_restaurant()``` that prints these two pieces of information, and a method called ```open_restaurant()``` that prints a message indicating that the restaurant is open. Make an instance called ```restaurant``` from your class. Print the two attributes individually, and then call both methods.*"
   ]
  },
  {
   "cell_type": "code",
   "execution_count": 6,
   "metadata": {},
   "outputs": [
    {
     "name": "stdout",
     "output_type": "stream",
     "text": [
      "Half Michelin Star\n",
      "Chinese\n",
      "Half Michelin Star serves wonderful Chinese.\n",
      "Half Michelin Star is open. Come on in!\n"
     ]
    }
   ],
   "source": [
    "class Restaurant():\n",
    "    def __init__(self, name, cuisine_type):\n",
    "        self.name = name\n",
    "        self.cuisine_type = cuisine_type\n",
    "    def describe_restaurant(self):\n",
    "        print(f\"{self.name} serves wonderful {self.cuisine_type}.\")\n",
    "    def open_restaurant(self):\n",
    "        print(f\"{self.name} is open. Come on in!\")\n",
    "\n",
    "restaurant=Restaurant('Half Michelin Star','Chinese')\n",
    "print(restaurant.name)\n",
    "print(restaurant.cuisine_type)\n",
    "restaurant.describe_restaurant()\n",
    "restaurant.open_restaurant()"
   ]
  },
  {
   "attachments": {},
   "cell_type": "markdown",
   "metadata": {},
   "source": [
    "### Exercise 9.2: Three Restaurants.\n",
    "#### *Start with your class from Exercise 9.1. Create three different instances from the class, and call ```describe_restaurant()``` for each instance.*"
   ]
  },
  {
   "cell_type": "code",
   "execution_count": 2,
   "metadata": {},
   "outputs": [
    {
     "name": "stdout",
     "output_type": "stream",
     "text": [
      "Half Michelin Star serves wonderful Chinese.\n",
      "Full Michelin Star serves wonderful French.\n",
      "No Michelin Star serves wonderful American.\n"
     ]
    }
   ],
   "source": [
    "class Restaurant():\n",
    "    def __init__(self, name, cuisine_type):\n",
    "        self.name = name\n",
    "        self.cuisine_type = cuisine_type\n",
    "\n",
    "    def describe_restaurant(self):\n",
    "        print(f\"{self.name} serves wonderful {self.cuisine_type}.\")\n",
    "\n",
    "    def open_restaurant(self):\n",
    "        print(f\"{self.name} is open. Come on in!\")\n",
    "\n",
    "restaurant1=Restaurant('Half Michelin Star','Chinese')\n",
    "restaurant2=Restaurant('Full Michelin Star','French')\n",
    "restaurant3=Restaurant('No Michelin Star','American')\n",
    "\n",
    "restaurant1.describe_restaurant()\n",
    "restaurant2.describe_restaurant()\n",
    "restaurant3.describe_restaurant()"
   ]
  },
  {
   "attachments": {},
   "cell_type": "markdown",
   "metadata": {},
   "source": [
    "### Exercise 9.3: Users.\n",
    "#### *Make a class called ```User``` . Create two attributes called ```first_name``` and ```last_name```, and then create several other attributes that are typically stored in a user profile. Make a method called ```describe_user()``` that prints a summary of the user’s information. Make another method called ```greet_user()``` that prints a personalized greeting to the user.<br> Create several instances representing different users, and call both methods for each user.*"
   ]
  },
  {
   "cell_type": "code",
   "execution_count": 10,
   "metadata": {},
   "outputs": [
    {
     "name": "stdout",
     "output_type": "stream",
     "text": [
      "Muid Bin Aslam, of age 22, is a male\n",
      "Hello, Muid Bin Aslam!\n",
      "Muhammad Ali, of age 24, is a male\n",
      "Hello, Muhammad Ali!\n",
      "Muhammad Usman, of age 23, is a male\n",
      "Hello, Muhammad Usman!\n"
     ]
    }
   ],
   "source": [
    "class user():\n",
    "    def __init__(self, first_name, last_name, age, gender):\n",
    "        self.first_name = first_name\n",
    "        self.last_name = last_name\n",
    "        self.age = age\n",
    "        self.gender = gender\n",
    "    def describe_user(self):\n",
    "        print(f\"{self.first_name} {self.last_name}, of age {self.age}, is a {self.gender}\")\n",
    "    def greet_user(self):\n",
    "        print(f\"Hello, {self.first_name} {self.last_name}!\")\n",
    "\n",
    "user1=user('Muid', 'Bin Aslam', '22', 'male')\n",
    "user2=user('Muhammad', 'Ali', '24', 'male')\n",
    "user3=user('Muhammad', 'Usman', '23', 'male')\n",
    "\n",
    "user1.describe_user()\n",
    "user1.greet_user()\n",
    "user2.describe_user()\n",
    "user2.greet_user()\n",
    "user3.describe_user()\n",
    "user3.greet_user()"
   ]
  },
  {
   "attachments": {},
   "cell_type": "markdown",
   "metadata": {},
   "source": [
    "### Exercise 9.4: Number Served.\n",
    "#### *Start with your program from Exercise 9.1 (page 166). Add an attribute called ```number_served``` with a default value of ```0```. Create an instance called ```restaurant``` from this class. Print the number of customers the restaurant has served, and then change this value and print it again.<br> Add a method called ```set_number_served()``` that lets you set the number of customers that have been served. Call this method with a new number and print the value again.<br> Add a method called ```increment_number_served()``` that lets you increment the number of customers who’ve been served. Call this method with any number you like that could represent how many customers were served in, say, a day of business.*"
   ]
  },
  {
   "cell_type": "code",
   "execution_count": 11,
   "metadata": {},
   "outputs": [
    {
     "name": "stdout",
     "output_type": "stream",
     "text": [
      "Half Michelin Star serves wonderful Chinese.\n",
      "Number served: 0\n",
      "Number served: 23\n",
      "Number served: 46\n",
      "Number served: 69\n"
     ]
    }
   ],
   "source": [
    "class Resuaurant():\n",
    "    def __init__(self, name, cuisine_type):\n",
    "        self.name = name\n",
    "        self.cuisine_type = cuisine_type\n",
    "        self.number_served = 0\n",
    "    def describe_restaurant(self):\n",
    "        print(f\"{self.name} serves wonderful {self.cuisine_type}.\")\n",
    "    def open_restaurant(self):\n",
    "        print(f\"{self.name} is open. Come on in!\")\n",
    "    def set_number_served(self, number):\n",
    "        self.number_served = number\n",
    "    def increment_number_served(self, number):\n",
    "        self.number_served += number\n",
    "\n",
    "restaurant=Resuaurant('Half Michelin Star','Chinese')\n",
    "restaurant.describe_restaurant()\n",
    "print(f\"Number served: {restaurant.number_served}\")\n",
    "restaurant.number_served = 23\n",
    "print(f\"Number served: {restaurant.number_served}\")\n",
    "restaurant.set_number_served(46)\n",
    "print(f\"Number served: {restaurant.number_served}\")\n",
    "restaurant.increment_number_served(23)\n",
    "print(f\"Number served: {restaurant.number_served}\")"
   ]
  },
  {
   "attachments": {},
   "cell_type": "markdown",
   "metadata": {},
   "source": [
    "### Exercise 9.5: Login Attempts.\n",
    "#### *Add an attribute called ```login_attempts``` to your ```User``` class from Exercise 9.3 (page 166). Write a method called ```increment_login_attempts()``` that increments the value of ```login_attempts``` by 1. Write another method called ```reset_login_attempts()``` that resets the value of ```login_attempts``` to 0.<br> Make an instance of the ```User``` class and call ```increment_login_attempts()``` several times. Print the value of ```login_attempts``` to make sure it was incremented properly, and then call ```reset_login_attempts()``` . Print ```login_attempts``` again to make sure it was reset to 0.*"
   ]
  },
  {
   "cell_type": "code",
   "execution_count": 12,
   "metadata": {},
   "outputs": [
    {
     "name": "stdout",
     "output_type": "stream",
     "text": [
      "Muid Bin Aslam\n",
      "  Username: mxid\n",
      "  Email: abdulmuid300@gmail.com\n",
      "  Location: Islamabad\n",
      "Hello, Muid Bin Aslam!\n",
      "Login attempts: 0\n",
      "Login attempts: 3\n",
      "Resetting login attempts...\n",
      "Login attempts: 0\n"
     ]
    }
   ],
   "source": [
    "class user():\n",
    "    def __init__(self, first_name, last_name, username, email, location):\n",
    "        self.first_name = first_name.title()\n",
    "        self.last_name = last_name.title()\n",
    "        self.username = username\n",
    "        self.email = email\n",
    "        self.location = location.title()\n",
    "        self.login_attempts = 0\n",
    "    \n",
    "    def describe_user(self):\n",
    "        print(f\"{self.first_name} {self.last_name}\")\n",
    "        print(f\"  Username: {self.username}\")\n",
    "        print(f\"  Email: {self.email}\")\n",
    "        print(f\"  Location: {self.location}\")\n",
    "    \n",
    "    def greet_user(self):\n",
    "        print(f\"Hello, {self.first_name} {self.last_name}!\")\n",
    "    \n",
    "    def increment_login_attempts(self):\n",
    "        self.login_attempts += 1\n",
    "    \n",
    "    def reset_login_attempts(self):\n",
    "        self.login_attempts = 0\n",
    "\n",
    "user=user('muid', 'bin aslam', 'mxid', 'abdulmuid300@gmail.com', 'islamabad')\n",
    "user.describe_user()\n",
    "user.greet_user()\n",
    "\n",
    "print(f\"Login attempts: {user.login_attempts}\")\n",
    "user.increment_login_attempts()\n",
    "user.increment_login_attempts()\n",
    "user.increment_login_attempts()\n",
    "print(f\"Login attempts: {user.login_attempts}\")\n",
    "\n",
    "print(\"Resetting login attempts...\")\n",
    "user.reset_login_attempts()\n",
    "print(f\"Login attempts: {user.login_attempts}\")"
   ]
  },
  {
   "attachments": {},
   "cell_type": "markdown",
   "metadata": {},
   "source": [
    "### Exercise 9.6: Ice Cream Stand.\n",
    "#### *An ice cream stand is a specific kind of restaurant. Write a class called ```IceCreamStand``` that inherits from the ```Restaurant``` class you wrote in Exercise 9.1 (page 166) or Exercise 9.4 (page 171). Either version of the class will work; just pick the one you like better. Add an attribute called ```flavors``` that stores a list of ice cream flavors. Write a method that displays these flavors. Create an instance of ```IceCreamStand```, and call this method.*"
   ]
  },
  {
   "cell_type": "code",
   "execution_count": 14,
   "metadata": {},
   "outputs": [
    {
     "name": "stdout",
     "output_type": "stream",
     "text": [
      "Soft Swirl serves wonderful ice cream.\n",
      "Flavours available are:\n",
      "- Cookies N Cream\n",
      "- Chocolate\n",
      "- Brownie\n"
     ]
    }
   ],
   "source": [
    "class Resuaurant():\n",
    "    def __init__(self, name, cuisine_type):\n",
    "        self.name = name\n",
    "        self.cuisine_type = cuisine_type\n",
    "        self.number_served = 0\n",
    "\n",
    "    def describe_restaurant(self):\n",
    "        print(f\"{self.name} serves wonderful {self.cuisine_type}.\")\n",
    "\n",
    "    def open_restaurant(self):\n",
    "        print(f\"{self.name} is open. Come on in!\")\n",
    "\n",
    "    def set_number_served(self, number):\n",
    "        self.number_served = number\n",
    "\n",
    "    def increment_number_served(self, number):\n",
    "        self.number_served += number\n",
    "\n",
    "class IceCreamStand(Resuaurant):\n",
    "    def __init__(self, name, cuisine_type='ice cream'):\n",
    "        super().__init__(name, cuisine_type)\n",
    "        self.flavors = []\n",
    "    \n",
    "    def show_flavors(self):\n",
    "        print(\"Flavours available are:\")\n",
    "        for flavor in self.flavors:\n",
    "            print(f\"- {flavor.title()}\")\n",
    "\n",
    "stand=IceCreamStand('Soft Swirl')\n",
    "stand.flavors = ['cookies n cream', 'chocolate', 'brownie']\n",
    "\n",
    "stand.describe_restaurant()\n",
    "stand.show_flavors()"
   ]
  },
  {
   "attachments": {},
   "cell_type": "markdown",
   "metadata": {},
   "source": [
    "### Exercise 9.7: Admin.\n",
    "#### *An administrator is a special kind of user. Write a class called ```Admin``` that inherits from the ```User``` class you wrote in Exercise 9.3 (page 166) or Exercise 9.5 (page 171). Add an attribute, ```privileges```, that stores a list of strings like ```\"can add post\"```, ```\"can delete post\"```, ```\"can ban user\"```, and so on. Write a method called ```show_privileges()``` that lists the administrator’s set of privileges. Create an instance of ```Admin```, and call your method.*"
   ]
  },
  {
   "cell_type": "code",
   "execution_count": 15,
   "metadata": {},
   "outputs": [
    {
     "name": "stdout",
     "output_type": "stream",
     "text": [
      "Muid Bin Aslam\n",
      "  Username: mxid\n",
      "  Email: abdulmuid300@gmail.com\n",
      "  Location: Islamabad\n",
      "Privileges:\n",
      "- can ban accounts\n",
      "- can mute accounts\n",
      "- can view logs\n"
     ]
    }
   ],
   "source": [
    "class user():\n",
    "    def __init__(self, first_name, last_name, username, email, location):\n",
    "        self.first_name = first_name.title()\n",
    "        self.last_name = last_name.title()\n",
    "        self.username = username\n",
    "        self.email = email\n",
    "        self.location = location.title()\n",
    "        self.login_attempts = 0\n",
    "\n",
    "    def describe_user(self):\n",
    "        print(f\"{self.first_name} {self.last_name}\")\n",
    "        print(f\"  Username: {self.username}\")\n",
    "        print(f\"  Email: {self.email}\")\n",
    "        print(f\"  Location: {self.location}\")\n",
    "\n",
    "    def greet_user(self):\n",
    "        print(f\"Hello, {self.first_name} {self.last_name}!\")\n",
    "\n",
    "    def increment_login_attempts(self):\n",
    "        self.login_attempts += 1\n",
    "\n",
    "    def reset_login_attempts(self):\n",
    "        self.login_attempts = 0\n",
    "\n",
    "class admin(user):\n",
    "    def __init__(self, first_name, last_name, username, email, location):\n",
    "        super().__init__(first_name, last_name, username, email, location)\n",
    "        self.privileges = []\n",
    "    \n",
    "    def show_privileges(self):\n",
    "        print(\"Privileges:\")\n",
    "        for privilege in self.privileges:\n",
    "            print(f\"- {privilege}\")\n",
    "\n",
    "admin=admin('muid', 'bin aslam', 'mxid', 'abdulmuid300@gmail.com', 'islamabad')\n",
    "admin.describe_user()\n",
    "\n",
    "admin.privileges = [\n",
    "    'can ban accounts',\n",
    "    'can mute accounts',\n",
    "    'can view logs'\n",
    "    ]\n",
    "\n",
    "admin.show_privileges()"
   ]
  },
  {
   "cell_type": "code",
   "execution_count": 19,
   "metadata": {},
   "outputs": [
    {
     "name": "stdout",
     "output_type": "stream",
     "text": [
      "Muid Bin Aslam\n",
      "  Username: mxid\n",
      "  Email: abdulmuid300@gmail.com\n",
      "  Location: Islamabad\n",
      "Privileges:\n",
      "- This user has no privileges.\n",
      "Adding privileges...\n",
      "Privileges:\n",
      "- can ban accounts\n",
      "- can mute accounts\n",
      "- can view logs\n"
     ]
    }
   ],
   "source": [
    "class user():\n",
    "    def __init__(self, first_name, last_name, username, email, location):\n",
    "        self.first_name = first_name.title()\n",
    "        self.last_name = last_name.title()\n",
    "        self.username = username\n",
    "        self.email = email\n",
    "        self.location = location.title()\n",
    "        self.login_attempts = 0\n",
    "\n",
    "    def describe_user(self):\n",
    "        print(f\"{self.first_name} {self.last_name}\")\n",
    "        print(f\"  Username: {self.username}\")\n",
    "        print(f\"  Email: {self.email}\")\n",
    "        print(f\"  Location: {self.location}\")\n",
    "\n",
    "    def greet_user(self):\n",
    "        print(f\"Hello, {self.first_name} {self.last_name}!\")\n",
    "\n",
    "    def increment_login_attempts(self):\n",
    "        self.login_attempts += 1\n",
    "\n",
    "    def reset_login_attempts(self):\n",
    "        self.login_attempts = 0\n",
    "\n",
    "\n",
    "class Privileges():\n",
    "    def __init__(self, privileges=[]):\n",
    "        self.privileges = privileges\n",
    "\n",
    "    def show_privileges(self):\n",
    "        print(\"Privileges:\")\n",
    "        if self.privileges:\n",
    "            for privilege in self.privileges:\n",
    "                print(f\"- {privilege}\")\n",
    "        else:\n",
    "            print(\"- This user has no privileges.\")\n",
    "\n",
    "class admin(user):\n",
    "    def __init__(self, first_name, last_name, username, email, location):\n",
    "        super().__init__(first_name, last_name, username, email, location)\n",
    "        self.privileges = Privileges()\n",
    "\n",
    "admin=admin('muid', 'bin aslam', 'mxid', 'abdulmuid300@gmail.com', 'islamabad')\n",
    "admin.describe_user()\n",
    "\n",
    "admin.privileges.show_privileges()\n",
    "\n",
    "print(\"Adding privileges...\")\n",
    "admin_privileges = [\n",
    "    'can ban accounts',\n",
    "    'can mute accounts',\n",
    "    'can view logs'\n",
    "]\n",
    "admin.privileges.privileges = admin_privileges\n",
    "admin.privileges.show_privileges()"
   ]
  },
  {
   "attachments": {},
   "cell_type": "markdown",
   "metadata": {},
   "source": [
    "### Exercise 9.9: Battery Upgrade.\n",
    "#### *Use the final version of ```electric_car.py``` from this section. Add a method to the ```Battery``` class called ```upgrade_battery()```. This method should check the battery size and set the capacity to 100 if it isn’t already. Make an electric car with a default battery size, call ```get_range()``` once, and then call ```get_range()``` a second time after upgrading the battery. You should see an increase in the car’s range.*"
   ]
  },
  {
   "cell_type": "code",
   "execution_count": 1,
   "metadata": {},
   "outputs": [
    {
     "name": "stdout",
     "output_type": "stream",
     "text": [
      "2021 Rivian R1T\n",
      "This car can go approximately 260 miles on a full charge.\n",
      "Upgrading battery...\n",
      "This car can go approximately 315 miles on a full charge.\n"
     ]
    }
   ],
   "source": [
    "class car():\n",
    "    def __init__(self, make, model, year):\n",
    "        self.make = make\n",
    "        self.model = model\n",
    "        self.year = year\n",
    "        self.odometer_reading = 0\n",
    "    \n",
    "    def get_descriptive_name(self):\n",
    "        long_name = f\"{self.year} {self.make} {self.model}\"\n",
    "        return long_name.title()\n",
    "    \n",
    "    def read_odometer(self):\n",
    "        print(f\"This car has {self.odometer_reading} miles on it.\")\n",
    "    \n",
    "    def update_odometer(self, mileage):\n",
    "        if mileage >= self.odometer_reading:\n",
    "            self.odometer_reading = mileage\n",
    "        else:\n",
    "            print(\"You can't roll back an odometer!\")\n",
    "    \n",
    "    def increment_odometer(self, miles):\n",
    "        self.odometer_reading += miles\n",
    "\n",
    "class battery():\n",
    "    def __init__(self, battery_size=75):\n",
    "        self.battery_size = battery_size\n",
    "    \n",
    "    def describe_battery(self):\n",
    "        print(f\"This car has a {self.battery_size}-kWh battery.\")\n",
    "    \n",
    "    def get_range(self):\n",
    "        if self.battery_size == 75:\n",
    "            range = 260\n",
    "        elif self.battery_size == 100:\n",
    "            range = 315\n",
    "        \n",
    "        message = f\"This car can go approximately {range}\"\n",
    "        message += \" miles on a full charge.\"\n",
    "        print(message)\n",
    "    \n",
    "    def upgrade_battery(self):\n",
    "        if self.battery_size != 100:\n",
    "            self.battery_size = 100\n",
    "\n",
    "class electricCar(car):\n",
    "    def __init__(self, make, model, year):\n",
    "        super().__init__(make, model, year)\n",
    "        self.battery = battery()\n",
    "\n",
    "rivian=electricCar('rivian', 'r1t', 2021)\n",
    "print(rivian.get_descriptive_name())\n",
    "rivian.battery.get_range()\n",
    "\n",
    "print(\"Upgrading battery...\")\n",
    "rivian.battery.upgrade_battery()\n",
    "rivian.battery.get_range()\n"
   ]
  }
 ],
 "metadata": {
  "kernelspec": {
   "display_name": "Python 3",
   "language": "python",
   "name": "python3"
  },
  "language_info": {
   "codemirror_mode": {
    "name": "ipython",
    "version": 3
   },
   "file_extension": ".py",
   "mimetype": "text/x-python",
   "name": "python",
   "nbconvert_exporter": "python",
   "pygments_lexer": "ipython3",
   "version": "3.11.1"
  },
  "orig_nbformat": 4
 },
 "nbformat": 4,
 "nbformat_minor": 2
}
