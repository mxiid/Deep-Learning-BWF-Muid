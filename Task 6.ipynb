{
 "cells": [
  {
   "attachments": {},
   "cell_type": "markdown",
   "metadata": {},
   "source": [
    ">## Task 6"
   ]
  },
  {
   "attachments": {},
   "cell_type": "markdown",
   "metadata": {},
   "source": [
    "### Exercise 6.1: Person."
   ]
  },
  {
   "cell_type": "code",
   "execution_count": 1,
   "metadata": {},
   "outputs": [
    {
     "name": "stdout",
     "output_type": "stream",
     "text": [
      "Muhammad\n",
      "Ali\n",
      "22\n",
      "Karachi\n"
     ]
    }
   ],
   "source": [
    "person={\n",
    "    'firstName':'Muhammad',\n",
    "    'lastName':'Ali',\n",
    "    'age':22,\n",
    "    'city':'Karachi'\n",
    "}\n",
    "\n",
    "print(person['firstName'])\n",
    "print(person['lastName'])\n",
    "print(person['age'])\n",
    "print(person['city'])"
   ]
  },
  {
   "attachments": {},
   "cell_type": "markdown",
   "metadata": {},
   "source": [
    "### Exercise 6.2: Favorite Numbers."
   ]
  },
  {
   "cell_type": "code",
   "execution_count": 2,
   "metadata": {},
   "outputs": [
    {
     "name": "stdout",
     "output_type": "stream",
     "text": [
      "Ali's favorite number is 3\n",
      "Ahmed's favorite number is 5\n",
      "Usman's favorite number is 7\n",
      "Sami's favorite number is 9\n",
      "Sohail's favorite number is 11\n"
     ]
    }
   ],
   "source": [
    "favoriteNumbers={\n",
    "    'Ali':3,\n",
    "    'Ahmed':5,\n",
    "    'Usman':7,\n",
    "    'Sami':9,\n",
    "    'Sohail':11\n",
    "}\n",
    "\n",
    "num=favoriteNumbers['Ali']\n",
    "print(\"Ali's favorite number is \"+str(num))\n",
    "\n",
    "num=favoriteNumbers['Ahmed']\n",
    "print(\"Ahmed's favorite number is \"+str(num))\n",
    "\n",
    "num=favoriteNumbers['Usman']\n",
    "print(\"Usman's favorite number is \"+str(num))\n",
    "\n",
    "num=favoriteNumbers['Sami']\n",
    "print(\"Sami's favorite number is \"+str(num))\n",
    "\n",
    "num=favoriteNumbers['Sohail']\n",
    "print(\"Sohail's favorite number is \"+str(num))"
   ]
  },
  {
   "attachments": {},
   "cell_type": "markdown",
   "metadata": {},
   "source": [
    "### Exercise 6.3: Glossary."
   ]
  },
  {
   "cell_type": "code",
   "execution_count": 3,
   "metadata": {},
   "outputs": [
    {
     "name": "stdout",
     "output_type": "stream",
     "text": [
      "List: A list is a collection which is ordered and changeable. Allows duplicate members.\n",
      "Tuple: A tuple is a collection which is ordered and unchangeable. Allows duplicate members.\n",
      "Dictionary: A dictionary is a collection which is unordered, changeable and indexed. No duplicate members.\n",
      "Set: A set is a collection which is unordered and unindexed. No duplicate members.\n",
      "String: A string is a collection of one or more characters put in a single quote, double quote or triple quote.\n"
     ]
    }
   ],
   "source": [
    "glossary={\n",
    "    'list':'A list is a collection which is ordered and changeable. Allows duplicate members.',\n",
    "    'tuple':'A tuple is a collection which is ordered and unchangeable. Allows duplicate members.',\n",
    "    'dictionary':'A dictionary is a collection which is unordered, changeable and indexed. No duplicate members.',\n",
    "    'set':'A set is a collection which is unordered and unindexed. No duplicate members.',\n",
    "    'string':'A string is a collection of one or more characters put in a single quote, double quote or triple quote.',\n",
    "}\n",
    "\n",
    "word='list'\n",
    "print(word.title()+\": \"+glossary[word])\n",
    "\n",
    "word='tuple'\n",
    "print(word.title()+\": \"+glossary[word])\n",
    "\n",
    "word='dictionary'\n",
    "print(word.title()+\": \"+glossary[word])\n",
    "\n",
    "word='set'\n",
    "print(word.title()+\": \"+glossary[word])\n",
    "\n",
    "word='string'\n",
    "print(word.title()+\": \"+glossary[word])"
   ]
  },
  {
   "attachments": {},
   "cell_type": "markdown",
   "metadata": {},
   "source": [
    "### Exercise 6.4: Glossary 2."
   ]
  },
  {
   "cell_type": "code",
   "execution_count": 5,
   "metadata": {},
   "outputs": [
    {
     "name": "stdout",
     "output_type": "stream",
     "text": [
      "List: A list is a collection which is ordered and changeable. Allows duplicate members.\n",
      "Tuple: A tuple is a collection which is ordered and unchangeable. Allows duplicate members.\n",
      "Dictionary: A dictionary is a collection which is unordered, changeable and indexed. No duplicate members.\n",
      "Set: A set is a collection which is unordered and unindexed. No duplicate members.\n",
      "String: A string is a collection of one or more characters put in a single quote, double quote or triple quote.\n",
      "Key: A key is a value that is used to access a specific item in a dictionary.\n",
      "Value: A value is a piece of data that is associated with a key in a dictionary.\n",
      "Item: An item is a key-value pair in a dictionary.\n",
      "Conditional Test: A conditional test is a comparison between two values.\n",
      "Float: A float is a numerical value with a decimal component.\n",
      "Integer: An integer is a numerical value with no decimal component.\n"
     ]
    }
   ],
   "source": [
    "glossary={\n",
    "    'list':'A list is a collection which is ordered and changeable. Allows duplicate members.',\n",
    "    'tuple':'A tuple is a collection which is ordered and unchangeable. Allows duplicate members.',\n",
    "    'dictionary':'A dictionary is a collection which is unordered, changeable and indexed. No duplicate members.',\n",
    "    'set':'A set is a collection which is unordered and unindexed. No duplicate members.',\n",
    "    'string':'A string is a collection of one or more characters put in a single quote, double quote or triple quote.',\n",
    "    'key':'A key is a value that is used to access a specific item in a dictionary.',\n",
    "    'value':'A value is a piece of data that is associated with a key in a dictionary.',\n",
    "    'item':'An item is a key-value pair in a dictionary.',\n",
    "    'conditional test':'A conditional test is a comparison between two values.',\n",
    "    'float':'A float is a numerical value with a decimal component.',\n",
    "    'integer':'An integer is a numerical value with no decimal component.'\n",
    "}\n",
    "\n",
    "for word, meaning in glossary.items():\n",
    "    print(word.title()+\": \"+meaning)"
   ]
  },
  {
   "attachments": {},
   "cell_type": "markdown",
   "metadata": {},
   "source": [
    "### Exercise 6.5: Rivers."
   ]
  },
  {
   "cell_type": "code",
   "execution_count": 7,
   "metadata": {},
   "outputs": [
    {
     "name": "stdout",
     "output_type": "stream",
     "text": [
      "The Nile runs through Egypt.\n",
      "The Amazon runs through Brazil.\n",
      "The Mississippi runs through United States.\n",
      "The Indus runs through Pakistan.\n",
      "The Yangtze runs through China.\n",
      "The Ganges runs through India.\n",
      "The Mekong runs through Vietnam.\n",
      "The Ob runs through Russia.\n",
      "\n",
      "The rivers in this dataset are:\n",
      "Nile\n",
      "Amazon\n",
      "Mississippi\n",
      "Indus\n",
      "Yangtze\n",
      "Ganges\n",
      "Mekong\n",
      "Ob\n",
      "\n",
      "The countries in this dataset are:\n",
      "Egypt\n",
      "Brazil\n",
      "United States\n",
      "Pakistan\n",
      "China\n",
      "India\n",
      "Vietnam\n",
      "Russia\n"
     ]
    }
   ],
   "source": [
    "rivers={\n",
    "    'nile':'egypt',\n",
    "    'amazon':'brazil',\n",
    "    'mississippi':'united states',\n",
    "    'indus':'pakistan',\n",
    "    'yangtze':'china',\n",
    "    'ganges':'india',\n",
    "    'mekong':'vietnam',\n",
    "    'ob':'russia'\n",
    "}\n",
    "\n",
    "for river, country in rivers.items():\n",
    "    print(\"The \"+river.title()+\" runs through \"+country.title()+\".\")\n",
    "\n",
    "print(\"\\nThe rivers in this dataset are:\")\n",
    "for river in rivers.keys():\n",
    "    print(river.title())\n",
    "\n",
    "print(\"\\nThe countries in this dataset are:\")\n",
    "for country in rivers.values():\n",
    "    print(country.title())"
   ]
  },
  {
   "attachments": {},
   "cell_type": "markdown",
   "metadata": {},
   "source": [
    "### Exercise 6.6: Polling."
   ]
  },
  {
   "cell_type": "code",
   "execution_count": 9,
   "metadata": {},
   "outputs": [
    {
     "name": "stdout",
     "output_type": "stream",
     "text": [
      "Ali's favorite language is Python.\n",
      "Ahmed's favorite language is C.\n",
      "Usman's favorite language is Java.\n",
      "Sami's favorite language is C++.\n",
      "Sohail's favorite language is C#.\n",
      "\n",
      "\n",
      "Thank you for taking the poll, Ali!\n",
      "Thank you for taking the poll, Ahmed!\n",
      "Thank you for taking the poll, Usman!\n",
      "Thank you for taking the poll, Sami!\n",
      "Thank you for taking the poll, Sohail!\n",
      "Hassan, please take our poll!\n",
      "Umer, please take our poll!\n",
      "Bilal, please take our poll!\n",
      "Zain, please take our poll!\n",
      "Thank you for taking the poll, Ali!\n"
     ]
    }
   ],
   "source": [
    "favoriteLanguages={\n",
    "    'ali':'python',\n",
    "    'ahmed':'c',\n",
    "    'usman':'java',\n",
    "    'sami':'c++',\n",
    "    'sohail':'c#'\n",
    "}\n",
    "\n",
    "for name, language in favoriteLanguages.items():\n",
    "    print(name.title()+\"'s favorite language is \"+language.title()+\".\")\n",
    "\n",
    "print(\"\\n\")\n",
    "coders=['ali','ahmed','usman','sami','sohail','hassan','umer','bilal','zain','ali']\n",
    "for coder in coders:\n",
    "    if coder in favoriteLanguages.keys():\n",
    "        print(\"Thank you for taking the poll, \"+coder.title()+\"!\")\n",
    "    else:\n",
    "        print(coder.title()+\", please take our poll!\")"
   ]
  },
  {
   "attachments": {},
   "cell_type": "markdown",
   "metadata": {},
   "source": [
    "### Exercise 6.7: People."
   ]
  },
  {
   "cell_type": "code",
   "execution_count": 10,
   "metadata": {},
   "outputs": [
    {
     "name": "stdout",
     "output_type": "stream",
     "text": [
      "Muhammad Ali, of Karachi, is 22 years old.\n",
      "Muhammad Ahmed, of Lahore, is 23 years old.\n",
      "Abdul Ali, of Islamabad, is 24 years old.\n"
     ]
    }
   ],
   "source": [
    "people=[]\n",
    "\n",
    "person={\n",
    "    'firstName':'Muhammad',\n",
    "    'lastName':'Ali',\n",
    "    'age':22,\n",
    "    'city':'Karachi'\n",
    "}\n",
    "people.append(person)\n",
    "\n",
    "person={\n",
    "    'firstName':'Muhammad',\n",
    "    'lastName':'Ahmed',\n",
    "    'age':23,\n",
    "    'city':'Lahore'\n",
    "}\n",
    "people.append(person)\n",
    "\n",
    "person={\n",
    "    'firstName':'Abdul',\n",
    "    'lastName':'Ali',\n",
    "    'age':24,\n",
    "    'city':'Islamabad'\n",
    "}\n",
    "people.append(person)\n",
    "\n",
    "for person in people:\n",
    "    name=f\"{person['firstName'].title()} {person['lastName'].title()}\"\n",
    "    age=person['age']\n",
    "    city=person['city'].title()\n",
    "\n",
    "    print(name+\", of \"+city+\", is \"+str(age)+\" years old.\")"
   ]
  },
  {
   "attachments": {},
   "cell_type": "markdown",
   "metadata": {},
   "source": [
    "### Exercise 6.8: Pets."
   ]
  },
  {
   "cell_type": "code",
   "execution_count": 13,
   "metadata": {},
   "outputs": [
    {
     "name": "stdout",
     "output_type": "stream",
     "text": [
      "\n",
      "Information regarding Willie:\n",
      "\tAnimal Type: Dog\n",
      "\tName: Willie\n",
      "\tOwner: Harry\n",
      "\tWeight: 25\n",
      "\tEats: Meat\n",
      "\n",
      "Information regarding Luna:\n",
      "\tAnimal Type: Cat\n",
      "\tName: Luna\n",
      "\tOwner: Ahmed\n",
      "\tWeight: 15\n",
      "\tEats: Fish\n",
      "\n",
      "Information regarding Nemo:\n",
      "\tAnimal Type: Fish\n",
      "\tName: Nemo\n",
      "\tOwner: Ali\n",
      "\tWeight: 5\n",
      "\tEats: Algae\n"
     ]
    }
   ],
   "source": [
    "pets=[]\n",
    "\n",
    "pet={\n",
    "    'animal type':'dog',\n",
    "    'name':'willie',\n",
    "    'owner':'harry',\n",
    "    'weight':'25',\n",
    "    'eats':'meat'\n",
    "}\n",
    "pets.append(pet)\n",
    "\n",
    "pet={\n",
    "    'animal type':'cat',\n",
    "    'name':'luna',\n",
    "    'owner':'ahmed',\n",
    "    'weight':'15',\n",
    "    'eats':'fish'\n",
    "}\n",
    "pets.append(pet)\n",
    "\n",
    "pet={\n",
    "    'animal type':'fish',\n",
    "    'name':'nemo',\n",
    "    'owner':'ali',\n",
    "    'weight':'5',\n",
    "    'eats':'algae'\n",
    "}\n",
    "pets.append(pet)\n",
    "\n",
    "for pet in pets:\n",
    "    print(f\"\\nInformation regarding {pet['name'].title()}:\")\n",
    "    for key, value in pet.items():\n",
    "        print(f\"\\t{key.title()}: {value.title()}\")"
   ]
  },
  {
   "attachments": {},
   "cell_type": "markdown",
   "metadata": {},
   "source": [
    "### Exercise 6.9: Favorite Places."
   ]
  },
  {
   "cell_type": "code",
   "execution_count": 19,
   "metadata": {},
   "outputs": [
    {
     "name": "stdout",
     "output_type": "stream",
     "text": [
      "Ali's favorite places are:\n",
      "\tLahore\n",
      "\tKarachi\n",
      "\tIslamabad\n",
      "\n",
      "Ahmed's favorite places are:\n",
      "\tPeshawar\n",
      "\tQuetta\n",
      "\tMultan\n",
      "\n",
      "Usman's favorite places are:\n",
      "\tSialkot\n",
      "\tFaisalabad\n",
      "\tGujranwala\n",
      "\n",
      "Sami's favorite places are:\n",
      "\tHyderabad\n",
      "\tSukkur\n",
      "\tLarkana\n",
      "\n"
     ]
    }
   ],
   "source": [
    "favoritePlaces={\n",
    "    'ali':['lahore','karachi','islamabad'],\n",
    "    'ahmed':['peshawar','quetta','multan'],\n",
    "    'usman':['sialkot','faisalabad','gujranwala'],\n",
    "    'sami':['hyderabad','sukkur','larkana']\n",
    "}\n",
    "\n",
    "for name, places in favoritePlaces.items():\n",
    "    print(name.title()+\"'s favorite places are:\")\n",
    "    for place in places:\n",
    "        print(\"\\t\"+place.title())\n",
    "    print(\"\")"
   ]
  },
  {
   "attachments": {},
   "cell_type": "markdown",
   "metadata": {},
   "source": [
    "### Exercise 6.10: Favorite Numbers."
   ]
  },
  {
   "cell_type": "code",
   "execution_count": 20,
   "metadata": {},
   "outputs": [
    {
     "name": "stdout",
     "output_type": "stream",
     "text": [
      "Ali's favorite numbers are:\n",
      "\t3\n",
      "\t5\n",
      "\t7\n",
      "\t9\n",
      "\t11\n",
      "\n",
      "Ahmed's favorite numbers are:\n",
      "\t13\n",
      "\t15\n",
      "\t17\n",
      "\t19\n",
      "\t21\n",
      "\n",
      "Usman's favorite numbers are:\n",
      "\t23\n",
      "\t25\n",
      "\t27\n",
      "\t29\n",
      "\t31\n",
      "\n",
      "Sami's favorite numbers are:\n",
      "\t33\n",
      "\t35\n",
      "\t37\n",
      "\t39\n",
      "\t41\n",
      "\n"
     ]
    }
   ],
   "source": [
    "favoriteNumbers={\n",
    "    'ali':[3,5,7,9,11],\n",
    "    'ahmed':[13,15,17,19,21],\n",
    "    'usman':[23,25,27,29,31],\n",
    "    'sami':[33,35,37,39,41]\n",
    "}\n",
    "\n",
    "for name, numbers in favoriteNumbers.items():\n",
    "    print(name.title()+\"'s favorite numbers are:\")\n",
    "    for number in numbers:\n",
    "        print(\"\\t\"+str(number))\n",
    "    print(\"\")"
   ]
  },
  {
   "attachments": {},
   "cell_type": "markdown",
   "metadata": {},
   "source": [
    "### Exercise 6.11: Cities."
   ]
  },
  {
   "cell_type": "code",
   "execution_count": 24,
   "metadata": {},
   "outputs": [
    {
     "name": "stdout",
     "output_type": "stream",
     "text": [
      "Karachi is in Pakistan, has a population of 14.91 million.\n",
      "A fact about Karachi is: Karachi is the sixth largest city in the world by city population.\n",
      "\n",
      "Lahore is in Pakistan, has a population of 11.13 million.\n",
      "A fact about Lahore is: Lahore is the second largest city in Pakistan.\n",
      "\n",
      "Islamabad is in Pakistan, has a population of 1.015 million.\n",
      "A fact about Islamabad is: Islamabad is the capital city of Pakistan.\n",
      "\n"
     ]
    }
   ],
   "source": [
    "cities={\n",
    "    'karachi':{\n",
    "        'country':'pakistan',\n",
    "        'population':'14.91 million',\n",
    "        'fact':'Karachi is the sixth largest city in the world by city population.'\n",
    "    },\n",
    "    'lahore':{\n",
    "        'country':'pakistan',\n",
    "        'population':'11.13 million',\n",
    "        'fact':'Lahore is the second largest city in Pakistan.'\n",
    "    },\n",
    "    'islamabad':{\n",
    "        'country':'pakistan',\n",
    "        'population':'1.015 million',\n",
    "        'fact':'Islamabad is the capital city of Pakistan.'\n",
    "    }\n",
    "}\n",
    "\n",
    "for city, info in cities.items():\n",
    "    country=info['country'].title()\n",
    "    population=info['population']\n",
    "    fact=info['fact']\n",
    "\n",
    "    print(city.title()+\" is in \"+country+\", has a population of \"+population+\".\")\n",
    "    print(\"A fact about \"+city.title()+\" is: \"+fact)\n",
    "    print(\"\")\n"
   ]
  }
 ],
 "metadata": {
  "kernelspec": {
   "display_name": "Python 3",
   "language": "python",
   "name": "python3"
  },
  "language_info": {
   "codemirror_mode": {
    "name": "ipython",
    "version": 3
   },
   "file_extension": ".py",
   "mimetype": "text/x-python",
   "name": "python",
   "nbconvert_exporter": "python",
   "pygments_lexer": "ipython3",
   "version": "3.11.1"
  },
  "orig_nbformat": 4
 },
 "nbformat": 4,
 "nbformat_minor": 2
}
