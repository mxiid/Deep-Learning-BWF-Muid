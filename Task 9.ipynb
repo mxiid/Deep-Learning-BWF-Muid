{
 "cells": [
  {
   "attachments": {},
   "cell_type": "markdown",
   "metadata": {},
   "source": [
    ">## Task 9"
   ]
  },
  {
   "attachments": {},
   "cell_type": "markdown",
   "metadata": {},
   "source": [
    "### Exercise 10.1: Learning Python.\n",
    "#### *Open a blank file in your text editor and write a few lines summarizing what you’ve learned about Python so far. Start each line with the phrase ```In Python you can...``` Save the file as learning_python.txt in the same directory as your exercises from this chapter. Write a program that reads the file and prints what you wrote three times. Print the contents once by reading in the entire file, once by looping over the file object, and once by storing the lines in a list and then working with them outside the ```with``` block.*"
   ]
  },
  {
   "cell_type": "code",
   "execution_count": 6,
   "metadata": {},
   "outputs": [
    {
     "name": "stdout",
     "output_type": "stream",
     "text": [
      "Reading the entire file:\n",
      "\n",
      "In Python you can have dynamic lists\n",
      "In Python you can do almost anything you want very intuitively \n",
      "In Python you can write 5 lines of code to do something that would take 50 lines of code in another language\n",
      "\n",
      "Reading the file line by line:\n",
      "\n",
      "In Python you can have dynamic lists\n",
      "In Python you can do almost anything you want very intuitively\n",
      "In Python you can write 5 lines of code to do something that would take 50 lines of code in another language\n",
      "\n",
      "Reading the file line by line and storing it in a list:\n",
      "\n",
      "In Python you can have dynamic lists\n",
      "In Python you can do almost anything you want very intuitively\n",
      "In Python you can write 5 lines of code to do something that would take 50 lines of code in another language\n"
     ]
    }
   ],
   "source": [
    "fileName=\"learning_python.txt\"\n",
    "\n",
    "print(\"Reading the entire file:\\n\")\n",
    "with open(fileName) as f:\n",
    "    lines=f.read()\n",
    "print(lines)\n",
    "\n",
    "print(\"\\nReading the file line by line:\\n\")\n",
    "with open(fileName) as f:\n",
    "    for line in f:\n",
    "        print(line.rstrip())\n",
    "\n",
    "print(\"\\nReading the file line by line and storing it in a list:\\n\")\n",
    "with open(fileName) as f:\n",
    "    lines=f.readlines()\n",
    "\n",
    "for line in lines:\n",
    "    print(line.rstrip())"
   ]
  },
  {
   "attachments": {},
   "cell_type": "markdown",
   "metadata": {},
   "source": [
    "### Exercise 10.2: Learning C.\n",
    "#### *You can use the replace() method to replace any word in a string with a different word. Here’s a quick example showing how to replace 'dog' with 'cat' in a sentence:*\n",
    "\n",
    "```python\n",
    ">>> message = \"I really like dogs.\"\n",
    ">>> message.replace('dog', 'cat')\n",
    "'I really like cats.'\n",
    "```\n",
    "\n",
    "#### *Read in each line from the file you just created, learning_python.txt, and replace the word Python with the name of another language, such as C. Print each modified line to the screen.*"
   ]
  },
  {
   "cell_type": "code",
   "execution_count": 7,
   "metadata": {},
   "outputs": [
    {
     "name": "stdout",
     "output_type": "stream",
     "text": [
      "In C you can have dynamic lists\n",
      "In C you can do almost anything you want very intuitively\n",
      "In C you can write 5 lines of code to do something that would take 50 lines of code in another language\n"
     ]
    }
   ],
   "source": [
    "fileName=\"learning_python.txt\"\n",
    "\n",
    "with open(fileName) as f:\n",
    "    lines=f.readlines()\n",
    "\n",
    "for line in lines:\n",
    "    print(line.replace('Python','C').rstrip())"
   ]
  },
  {
   "attachments": {},
   "cell_type": "markdown",
   "metadata": {},
   "source": [
    "### Exercise 10.3: Guest.\n",
    "#### *Write a program that prompts the user for their name. When they respond, write their name to a file called ```guest.txt```.*"
   ]
  },
  {
   "cell_type": "code",
   "execution_count": 8,
   "metadata": {},
   "outputs": [
    {
     "name": "stdout",
     "output_type": "stream",
     "text": [
      "Testing if the name's been written in the file:\n",
      "\n",
      "Muid\n"
     ]
    }
   ],
   "source": [
    "name=input(\"Enter your name: \")\n",
    "\n",
    "fileName=\"guest.txt\"\n",
    "\n",
    "with open(fileName, 'w') as f:\n",
    "    f.write(name)\n",
    "\n",
    "print(\"Testing if the name's been written in the file:\\n\")\n",
    "with open(fileName) as f:\n",
    "    lines=f.read()\n",
    "print(lines)"
   ]
  },
  {
   "attachments": {},
   "cell_type": "markdown",
   "metadata": {},
   "source": [
    "### Exercise 10.4: Guest Book.\n",
    "#### *Write a ```while``` loop that prompts users for their name. When they enter their name, print a greeting to the screen and add a line recording their visit in a file called ```guest_book.txt```. Make sure each entry appears on a new line in the file.*"
   ]
  },
  {
   "cell_type": "code",
   "execution_count": 11,
   "metadata": {},
   "outputs": [
    {
     "name": "stdout",
     "output_type": "stream",
     "text": [
      "Enter 'q' to quit the program.\n",
      "\n",
      "Hi Muid, your name has been added to the file.\n",
      "Hi Ahmed, your name has been added to the file.\n",
      "Hi Ali, your name has been added to the file.\n",
      "Hi Hamza, your name has been added to the file.\n",
      "\n",
      "Testing if the name's been written in the file:\n",
      "\n",
      "muid\n",
      "ahmed\n",
      "ali\n",
      "hamza\n",
      "\n"
     ]
    }
   ],
   "source": [
    "fileName=\"guest_book.txt\"\n",
    "\n",
    "print(\"Enter 'q' to quit the program.\\n\")\n",
    "while True:\n",
    "    name=input(\"\\nEnter your name: \")\n",
    "    if name=='q':\n",
    "        break\n",
    "    else:\n",
    "        with open(fileName, 'a') as f:\n",
    "            f.write(f\"{name}\\n\")\n",
    "        print(f\"Hi {name.title()}, your name has been added to the file.\")\n",
    "\n",
    "print(\"\\nTesting if the name's been written in the file:\\n\")\n",
    "with open(fileName) as f:\n",
    "    lines=f.read()\n",
    "print(lines)"
   ]
  },
  {
   "attachments": {},
   "cell_type": "markdown",
   "metadata": {},
   "source": [
    "### Exercise 10.5: Programming Poll.\n",
    "#### *Write a ```while``` loop that asks people why they like programming. Each time someone enters a reason, add their reason to a file that stores all the responses.*"
   ]
  },
  {
   "cell_type": "code",
   "execution_count": 12,
   "metadata": {},
   "outputs": [
    {
     "name": "stdout",
     "output_type": "stream",
     "text": [
      "\n",
      "Testing if the responses have been written in the file:\n",
      "\n",
      "It's fun\n",
      "It helps me create things\n",
      "\n"
     ]
    }
   ],
   "source": [
    "fileName=\"programming_poll.txt\"\n",
    "\n",
    "responses=[]\n",
    "while True:\n",
    "    response=input(\"\\nWhy do you like programming? \")\n",
    "    responses.append(response)\n",
    "    repeat=input(\"Would you like to let another person respond? (yes/no) \")\n",
    "    if repeat=='no':\n",
    "        break\n",
    "\n",
    "with open(fileName, 'w') as f:\n",
    "    for response in responses:\n",
    "        f.write(f\"{response}\\n\")\n",
    "\n",
    "print(\"\\nTesting if the responses have been written in the file:\\n\")\n",
    "with open(fileName) as f:\n",
    "    lines=f.read()\n",
    "print(lines)"
   ]
  },
  {
   "attachments": {},
   "cell_type": "markdown",
   "metadata": {},
   "source": [
    "### Exercise 10.6: Addition.\n",
    "#### *One common problem when prompting for numerical input occurs when people provide text instead of numbers. When you try to convert the input to an ```int```, you’ll get a ```ValueError```. Write a program that prompts for two numbers. Add them together and print the result. Catch the ```ValueError``` if either input value is not a number, and print a friendly error message. Test your program by entering two numbers and then by entering some text instead of a number.*"
   ]
  },
  {
   "attachments": {},
   "cell_type": "markdown",
   "metadata": {},
   "source": [
    "##### *Program with input 3 and 5:*"
   ]
  },
  {
   "cell_type": "code",
   "execution_count": 13,
   "metadata": {},
   "outputs": [
    {
     "name": "stdout",
     "output_type": "stream",
     "text": [
      "3 + 2 = 5\n"
     ]
    }
   ],
   "source": [
    "try:\n",
    "    x=int(input(\"Enter a number: \"))\n",
    "    x=int(x)\n",
    "\n",
    "    y=input(\"Enter another number: \")\n",
    "    y=int(y)\n",
    "except ValueError:\n",
    "    print(\"You didn't enter a number.\")\n",
    "else:\n",
    "    print(f\"{x} + {y} = {x+y}\")"
   ]
  },
  {
   "attachments": {},
   "cell_type": "markdown",
   "metadata": {},
   "source": [
    "##### *Program with input 3 and 'five':*"
   ]
  },
  {
   "cell_type": "code",
   "execution_count": 14,
   "metadata": {},
   "outputs": [
    {
     "name": "stdout",
     "output_type": "stream",
     "text": [
      "You didn't enter a number.\n"
     ]
    }
   ],
   "source": [
    "try:\n",
    "    x = int(input(\"Enter a number: \"))\n",
    "    x = int(x)\n",
    "\n",
    "    y = input(\"Enter another number: \")\n",
    "    y = int(y)\n",
    "except ValueError:\n",
    "    print(\"You didn't enter a number.\")\n",
    "else:\n",
    "    print(f\"{x} + {y} = {x+y}\")"
   ]
  },
  {
   "attachments": {},
   "cell_type": "markdown",
   "metadata": {},
   "source": [
    "### Exercise 10.7: Addition Calculator.\n",
    "#### *Wrap your code from Exercise 10-6 in a ```while``` loop so the user can continue entering numbers even if they make a mistake and enter text instead of a number.*"
   ]
  },
  {
   "cell_type": "code",
   "execution_count": 17,
   "metadata": {},
   "outputs": [
    {
     "name": "stdout",
     "output_type": "stream",
     "text": [
      "3 + 5 = 8\n",
      "8 + 5 = 13\n",
      "3 + 2 = 5\n",
      "4 + 5 = 9\n",
      "You didn't enter a number.\n",
      "3 + 2 = 5\n"
     ]
    }
   ],
   "source": [
    "while True:\n",
    "    try:\n",
    "        x = int(input(\"Enter a number: \"))\n",
    "        x = int(x)\n",
    "\n",
    "        y = input(\"Enter another number: \")\n",
    "        y = int(y)\n",
    "    except ValueError:\n",
    "        print(\"You didn't enter a number.\")\n",
    "    else:\n",
    "        print(f\"{x} + {y} = {x+y}\")\n",
    "    \n",
    "    choice=input(\"Would you like to continue? (yes/no) \")\n",
    "    if choice=='no':\n",
    "        break\n"
   ]
  },
  {
   "attachments": {},
   "cell_type": "markdown",
   "metadata": {},
   "source": [
    "### Exercise 10.8: Cats and Dogs.\n",
    "#### *Make two files, ```cats.txt``` and ```dogs.txt```. Store at least three names of cats in the first file and three names of dogs in the second file. Write a program that tries to read these files and print the contents of the file to the screen. Wrap your code in a ```try-except``` block to catch the ```FileNotFoundError```, and print a friendly message if a file is missing. Move one of the files to a different location on your system, and make sure the code in the ```except``` block executes properly.*"
   ]
  },
  {
   "attachments": {},
   "cell_type": "markdown",
   "metadata": {},
   "source": [
    "##### *Output with both files in the same directory:*"
   ]
  },
  {
   "cell_type": "code",
   "execution_count": 18,
   "metadata": {},
   "outputs": [
    {
     "name": "stdout",
     "output_type": "stream",
     "text": [
      "\n",
      "Reading file cats.txt:\n",
      "\n",
      "luna \n",
      "kiki\n",
      "angel\n",
      "ori\n",
      "\n",
      "Reading file dogs.txt:\n",
      "\n",
      "hachiko\n",
      "julius\n",
      "ceaesar\n",
      "maya\n"
     ]
    }
   ],
   "source": [
    "fileNames=['cats.txt', 'dogs.txt']\n",
    "\n",
    "for fileName in fileNames:\n",
    "    print(f\"\\nReading file {fileName}:\\n\")\n",
    "    try:\n",
    "        with open(fileName) as f:\n",
    "            lines=f.read()\n",
    "            print(lines)\n",
    "    except FileNotFoundError:\n",
    "        print(f\"Sorry, the file {fileName} does not exist.\")"
   ]
  },
  {
   "attachments": {},
   "cell_type": "markdown",
   "metadata": {},
   "source": [
    "##### *Output with one file moved to a different directory:*"
   ]
  },
  {
   "cell_type": "code",
   "execution_count": 20,
   "metadata": {},
   "outputs": [
    {
     "name": "stdout",
     "output_type": "stream",
     "text": [
      "\n",
      "Reading file cats.txt:\n",
      "\n",
      "Sorry, the file cats.txt does not exist.\n",
      "\n",
      "Reading file dogs.txt:\n",
      "\n",
      "hachiko\n",
      "julius\n",
      "ceaesar\n",
      "maya\n"
     ]
    }
   ],
   "source": [
    "fileNames = ['cats.txt', 'dogs.txt']\n",
    "\n",
    "for fileName in fileNames:\n",
    "    print(f\"\\nReading file {fileName}:\\n\")\n",
    "    try:\n",
    "        with open(fileName) as f:\n",
    "            lines = f.read()\n",
    "            print(lines)\n",
    "    except FileNotFoundError:\n",
    "        print(f\"Sorry, the file {fileName} does not exist.\")"
   ]
  },
  {
   "attachments": {},
   "cell_type": "markdown",
   "metadata": {},
   "source": [
    "### Exercise 10.9: Silent Cats and Dogs.\n",
    "#### *Modify your ```except``` block in **Exercise 10-8** to fail silently if either file is missing.*"
   ]
  },
  {
   "attachments": {},
   "cell_type": "markdown",
   "metadata": {},
   "source": [
    "##### *Output with both files in the same directory:*"
   ]
  },
  {
   "cell_type": "code",
   "execution_count": 24,
   "metadata": {},
   "outputs": [
    {
     "name": "stdout",
     "output_type": "stream",
     "text": [
      "\n",
      "Reading file cats.txt:\n",
      "\n",
      "luna \n",
      "kiki\n",
      "angel\n",
      "ori\n",
      "\n",
      "Reading file dogs.txt:\n",
      "\n",
      "hachiko\n",
      "julius\n",
      "ceaesar\n",
      "maya\n"
     ]
    }
   ],
   "source": [
    "fileNames = ['cats.txt', 'dogs.txt']\n",
    "\n",
    "for fileName in fileNames:\n",
    "    try:\n",
    "        with open(fileName) as f:\n",
    "            lines = f.read()\n",
    "    except FileNotFoundError:\n",
    "        pass\n",
    "    else:\n",
    "        print(f\"\\nReading file {fileName}:\\n\")\n",
    "        print(lines)"
   ]
  },
  {
   "attachments": {},
   "cell_type": "markdown",
   "metadata": {},
   "source": [
    "##### *Output with both files in the same directory:*"
   ]
  },
  {
   "cell_type": "code",
   "execution_count": 23,
   "metadata": {},
   "outputs": [
    {
     "name": "stdout",
     "output_type": "stream",
     "text": [
      "\n",
      "Reading file dogs.txt:\n",
      "\n",
      "hachiko\n",
      "julius\n",
      "ceaesar\n",
      "maya\n"
     ]
    }
   ],
   "source": [
    "fileNames = ['cats.txt', 'dogs.txt']\n",
    "\n",
    "for fileName in fileNames:\n",
    "    try:\n",
    "        with open(fileName) as f:\n",
    "            lines = f.read()\n",
    "    except FileNotFoundError:\n",
    "        pass\n",
    "    else:\n",
    "        print(f\"\\nReading file {fileName}:\\n\")\n",
    "        print(lines)\n"
   ]
  },
  {
   "attachments": {},
   "cell_type": "markdown",
   "metadata": {},
   "source": [
    "### Exercise 10.10: Common Words.\n",
    "#### *Visit Project Gutenberg (http://gutenberg.org/ ) and find a few texts you’d like to analyze. Download the text files for these works, or copy the raw text from your browser into a text file on your computer.*\n",
    "#### *You can use the ```count()``` method to find out how many times a word or phrase appears in a string. For example, the following code counts the number of times 'row' appears in a string:*\n",
    "\n",
    "```python\n",
    ">>> line = \"Row, row, row your boat\"\n",
    ">>> line.count('row')\n",
    "2\n",
    ">>> line.lower().count('row')\n",
    "3\n",
    "```\n",
    "#### *Notice how converting the string to lowercase using ```lower()``` catches all appearances of the word you’re looking for, regardless of how it’s formatted.*\n",
    "#### *Write a program that reads the files you found at Project Gutenberg and determines how many times the word 'the' appears in each text. This will be an approximation because it will also count words such as 'then' and 'tehre'. Try counting 'the ', with a space in the string, and see how much you lower your count is.*"
   ]
  },
  {
   "attachments": {},
   "cell_type": "markdown",
   "metadata": {},
   "source": [
    "##### *Counting 'the' with no space:*"
   ]
  },
  {
   "cell_type": "code",
   "execution_count": 25,
   "metadata": {},
   "outputs": [
    {
     "name": "stdout",
     "output_type": "stream",
     "text": [
      "The word 'the' appears 1571 times in the file Romeo and Juliet.txt.\n"
     ]
    }
   ],
   "source": [
    "def countCommonWords(filename, word):\n",
    "    try: \n",
    "        with open(filename, encoding='utf-8') as f:\n",
    "            lines=f.read()\n",
    "    except FileNotFoundError:\n",
    "        pass\n",
    "    else:\n",
    "        wordCount=lines.lower().count(word)\n",
    "        print(f\"The word '{word}' appears {wordCount} times in the file {filename}.\")\n",
    "\n",
    "fileName=\"Romeo and Juliet.txt\"\n",
    "countCommonWords(fileName, 'the')"
   ]
  },
  {
   "attachments": {},
   "cell_type": "markdown",
   "metadata": {},
   "source": [
    "##### *Counting 'the ' with a space:*"
   ]
  },
  {
   "cell_type": "code",
   "execution_count": 26,
   "metadata": {},
   "outputs": [
    {
     "name": "stdout",
     "output_type": "stream",
     "text": [
      "The word 'the ' appears 847 times in the file Romeo and Juliet.txt.\n"
     ]
    }
   ],
   "source": [
    "def countCommonWords(filename, word):\n",
    "    try:\n",
    "        with open(filename, encoding='utf-8') as f:\n",
    "            lines = f.read()\n",
    "    except FileNotFoundError:\n",
    "        pass\n",
    "    else:\n",
    "        wordCount = lines.lower().count(word)\n",
    "        print(\n",
    "            f\"The word '{word}' appears {wordCount} times in the file {filename}.\")\n",
    "\n",
    "\n",
    "fileName = \"Romeo and Juliet.txt\"\n",
    "countCommonWords(fileName, 'the ')"
   ]
  },
  {
   "attachments": {},
   "cell_type": "markdown",
   "metadata": {},
   "source": [
    "### Exercise 10.11: Favorite Number.\n",
    "#### *Write a program that prompts for the user’s favorite number. Use ```json.dump()``` to store this number in a file. Write a separate program that reads in this value and prints the message, “I know your favorite number! It’s _____.”*"
   ]
  },
  {
   "cell_type": "code",
   "execution_count": 29,
   "metadata": {},
   "outputs": [
    {
     "name": "stdout",
     "output_type": "stream",
     "text": [
      "Your favorite number has been stored!\n",
      "Magically retrieving your favourite number from the file:\n",
      "16\n"
     ]
    }
   ],
   "source": [
    "import json\n",
    "\n",
    "number=input(\"Enter your favourite number: \")\n",
    "\n",
    "with open('favourite_number.json', 'w') as f:\n",
    "    json.dump(number, f)\n",
    "    print(\"Your favorite number has been stored!\")\n",
    "\n",
    "print(\"Magically retrieving your favourite number from the file:\")\n",
    "with open('favourite_number.json') as f:\n",
    "    number=json.load(f)\n",
    "    print(number)"
   ]
  },
  {
   "attachments": {},
   "cell_type": "markdown",
   "metadata": {},
   "source": [
    "### Exercise 10.12: Favorite Number Remembered.\n",
    "#### *Combine the two programs from Exercise 10-11 into one file. If the number is already stored, report the favorite number to the user. If not, prompt for the user’s favorite number and store it in a file. Run the program twice to see that it works.*"
   ]
  },
  {
   "attachments": {},
   "cell_type": "markdown",
   "metadata": {},
   "source": [
    "##### *Output when the number isn't stored*"
   ]
  },
  {
   "cell_type": "code",
   "execution_count": 30,
   "metadata": {},
   "outputs": [
    {
     "name": "stdout",
     "output_type": "stream",
     "text": [
      "Your favorite number has been stored!\n"
     ]
    }
   ],
   "source": [
    "import json\n",
    "\n",
    "try:\n",
    "    with open('favourite_number_2.json') as f:\n",
    "        number=json.load(f)\n",
    "except FileNotFoundError:\n",
    "    number=input(\"Enter your favourite number: \")\n",
    "    with open('favourite_number_2.json', 'w') as f:\n",
    "        json.dump(number, f)\n",
    "        print(\"Your favorite number has been stored!\")\n",
    "else:\n",
    "    print(\"Magically retrieving your favourite number from the file:\")\n",
    "    print(number)"
   ]
  },
  {
   "attachments": {},
   "cell_type": "markdown",
   "metadata": {},
   "source": [
    "##### *Output when the number is stored*"
   ]
  },
  {
   "cell_type": "code",
   "execution_count": 31,
   "metadata": {},
   "outputs": [
    {
     "name": "stdout",
     "output_type": "stream",
     "text": [
      "Magically retrieving your favourite number from the file:\n",
      "16\n"
     ]
    }
   ],
   "source": [
    "try:\n",
    "    with open('favourite_number_2.json') as f:\n",
    "        number = json.load(f)\n",
    "except FileNotFoundError:\n",
    "    number = input(\"Enter your favourite number: \")\n",
    "    with open('favourite_number_2.json', 'w') as f:\n",
    "        json.dump(number, f)\n",
    "        print(\"Your favorite number has been stored!\")\n",
    "else:\n",
    "    print(\"Magically retrieving your favourite number from the file:\")\n",
    "    print(number)"
   ]
  },
  {
   "attachments": {},
   "cell_type": "markdown",
   "metadata": {},
   "source": [
    "### Exercise 10.13: Verify User.\n",
    "#### *The final listing for ```remember_me.py``` assumes either that the user has already entered their username or that the program is running for the first time. We should modify it in case the current user is not the person who last used the program.*\n",
    "#### *Before printing a welcome back message in ```greet_user()```, ask the user if this is the correct username. If it’s not, call ```get_new_username()``` to get the correct username.*"
   ]
  },
  {
   "attachments": {},
   "cell_type": "markdown",
   "metadata": {},
   "source": [
    "##### *Output when a new user is stored*"
   ]
  },
  {
   "cell_type": "code",
   "execution_count": 32,
   "metadata": {},
   "outputs": [
    {
     "name": "stdout",
     "output_type": "stream",
     "text": [
      "We'll remember you when you come back, Muid!\n"
     ]
    }
   ],
   "source": [
    "import json\n",
    "\n",
    "def getStoredUser():\n",
    "    fileName='username.json'\n",
    "    try:\n",
    "        with open(fileName) as f:\n",
    "            username=json.load(f)\n",
    "    except FileNotFoundError:\n",
    "        return None\n",
    "    else:\n",
    "        return username\n",
    "\n",
    "def getNewUser():\n",
    "    username=input(\"Enter your name: \")\n",
    "    fileName='username.json'\n",
    "    with open(fileName, 'w') as f:\n",
    "        json.dump(username, f)\n",
    "    return username\n",
    "\n",
    "def greetUser():\n",
    "    username=getStoredUser()\n",
    "    if username:\n",
    "        print(f\"Welcome back {username}!\")\n",
    "    else:\n",
    "        username=getNewUser()\n",
    "        print(f\"We'll remember you when you come back, {username}!\")\n",
    "\n",
    "greetUser()"
   ]
  },
  {
   "attachments": {},
   "cell_type": "markdown",
   "metadata": {},
   "source": [
    "##### *Output when the user is stored*"
   ]
  },
  {
   "cell_type": "code",
   "execution_count": 33,
   "metadata": {},
   "outputs": [
    {
     "name": "stdout",
     "output_type": "stream",
     "text": [
      "Welcome back Muid!\n"
     ]
    }
   ],
   "source": [
    "def getStoredUser():\n",
    "    fileName = 'username.json'\n",
    "    try:\n",
    "        with open(fileName) as f:\n",
    "            username = json.load(f)\n",
    "    except FileNotFoundError:\n",
    "        return None\n",
    "    else:\n",
    "        return username\n",
    "\n",
    "\n",
    "def getNewUser():\n",
    "    username = input(\"Enter your name: \")\n",
    "    fileName = 'username.json'\n",
    "    with open(fileName, 'w') as f:\n",
    "        json.dump(username, f)\n",
    "    return username\n",
    "\n",
    "\n",
    "def greetUser():\n",
    "    username = getStoredUser()\n",
    "    if username:\n",
    "        print(f\"Welcome back {username}!\")\n",
    "    else:\n",
    "        username = getNewUser()\n",
    "        print(f\"We'll remember you when you come back, {username}!\")\n",
    "\n",
    "\n",
    "greetUser()"
   ]
  }
 ],
 "metadata": {
  "kernelspec": {
   "display_name": "Python 3",
   "language": "python",
   "name": "python3"
  },
  "language_info": {
   "codemirror_mode": {
    "name": "ipython",
    "version": 3
   },
   "file_extension": ".py",
   "mimetype": "text/x-python",
   "name": "python",
   "nbconvert_exporter": "python",
   "pygments_lexer": "ipython3",
   "version": "3.11.1"
  },
  "orig_nbformat": 4
 },
 "nbformat": 4,
 "nbformat_minor": 2
}
