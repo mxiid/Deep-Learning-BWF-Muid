{
 "cells": [
  {
   "attachments": {},
   "cell_type": "markdown",
   "metadata": {},
   "source": [
    ">### Task 20"
   ]
  },
  {
   "attachments": {},
   "cell_type": "markdown",
   "metadata": {},
   "source": [
    "### The IMDB Dataset"
   ]
  },
  {
   "attachments": {},
   "cell_type": "markdown",
   "metadata": {},
   "source": [
    "#### Loading the IMDB dataset"
   ]
  },
  {
   "cell_type": "code",
   "execution_count": 2,
   "metadata": {},
   "outputs": [],
   "source": [
    "from keras.datasets import imdb\n",
    "\n",
    "(train_data, train_labels), (test_data, test_labels) = imdb.load_data(num_words=10000)"
   ]
  },
  {
   "attachments": {},
   "cell_type": "markdown",
   "metadata": {},
   "source": [
    "#### Decoding the reviews"
   ]
  },
  {
   "cell_type": "code",
   "execution_count": 3,
   "metadata": {},
   "outputs": [
    {
     "name": "stdout",
     "output_type": "stream",
     "text": [
      "? this film was just brilliant casting location scenery story direction everyone's really suited the part they played and you could just imagine being there robert ? is an amazing actor and now the same being director ? father came from the same scottish island as myself so i loved the fact there was a real connection with this film the witty remarks throughout the film were great it was just brilliant so much that i bought the film as soon as it was released for ? and would recommend it to everyone to watch and the fly fishing was amazing really cried at the end it was so sad and you know what they say if you cry at a film it must have been good and this definitely was also ? to the two little boy's that played the ? of norman and paul they were just brilliant children are often left out of the ? list i think because the stars that play them all grown up are such a big profile for the whole film but these children are amazing and should be praised for what they have done don't you think the whole story was so lovely because it was true and was someone's life after all that was shared with us all\n"
     ]
    }
   ],
   "source": [
    "word_index = imdb.get_word_index()\n",
    "reverse_word_index = dict([(value,key) for (key,value) in word_index.items()])\n",
    "decoded_review = ' '.join([reverse_word_index.get(i-3,'?') for i in train_data[0]])\n",
    "print(decoded_review)"
   ]
  },
  {
   "attachments": {},
   "cell_type": "markdown",
   "metadata": {},
   "source": [
    "#### Encoding the integer sequences into a binary matrix"
   ]
  },
  {
   "cell_type": "code",
   "execution_count": 4,
   "metadata": {},
   "outputs": [],
   "source": [
    "import numpy as numpy\n",
    "\n",
    "def vectorize_sequences(sequences, dimension=10000):\n",
    "    results = numpy.zeros((len(sequences), dimension))\n",
    "    for i, sequence in enumerate(sequences):\n",
    "        results[i, sequence] = 1\n",
    "    return results\n",
    "\n",
    "x_train = vectorize_sequences(train_data)\n",
    "x_test  = vectorize_sequences(test_data)\n",
    "\n",
    "y_train = numpy.asarray(train_labels).astype('float32')\n",
    "y_test  = numpy.asarray(test_labels).astype('float32')"
   ]
  },
  {
   "attachments": {},
   "cell_type": "markdown",
   "metadata": {},
   "source": [
    "#### Model definition"
   ]
  },
  {
   "cell_type": "code",
   "execution_count": 5,
   "metadata": {},
   "outputs": [],
   "source": [
    "from keras import models\n",
    "from keras import layers\n",
    "\n",
    "model = models.Sequential()\n",
    "model.add(layers.Dense(16, activation='relu', input_shape=(10000, )))\n",
    "model.add(layers.Dense(16, activation='relu'))\n",
    "model.add(layers.Dense(1,  activation='sigmoid'))"
   ]
  },
  {
   "attachments": {},
   "cell_type": "markdown",
   "metadata": {},
   "source": [
    "#### Compiling the model"
   ]
  },
  {
   "cell_type": "code",
   "execution_count": 6,
   "metadata": {},
   "outputs": [],
   "source": [
    "model.compile(optimizer='rmsprop', loss='binary_crossentropy', metrics=['accuracy'])"
   ]
  },
  {
   "attachments": {},
   "cell_type": "markdown",
   "metadata": {},
   "source": [
    "#### Configuring the optimizer"
   ]
  },
  {
   "cell_type": "code",
   "execution_count": 7,
   "metadata": {},
   "outputs": [],
   "source": [
    "from keras import optimizers\n",
    "\n",
    "model.compile(optimizer=optimizers.RMSprop(learning_rate=0.001), loss='binary_crossentropy', metrics=['accuracy'])"
   ]
  },
  {
   "attachments": {},
   "cell_type": "markdown",
   "metadata": {},
   "source": [
    "#### Using custom losses and metrics"
   ]
  },
  {
   "cell_type": "code",
   "execution_count": 8,
   "metadata": {},
   "outputs": [],
   "source": [
    "from keras import losses\n",
    "from keras import metrics\n",
    "\n",
    "model.compile(optimizer=optimizers.RMSprop(learning_rate=0.001),\n",
    "              loss=losses.binary_crossentropy,\n",
    "              metrics=[metrics.binary_accuracy])\n"
   ]
  },
  {
   "attachments": {},
   "cell_type": "markdown",
   "metadata": {},
   "source": [
    "#### Setting aside a validation set"
   ]
  },
  {
   "cell_type": "code",
   "execution_count": 9,
   "metadata": {},
   "outputs": [],
   "source": [
    "x_val = x_train[:10000]\n",
    "partial_x_train = x_train[10000:]\n",
    "\n",
    "y_val = y_train[:10000]\n",
    "partial_y_train = y_train[10000:]\n"
   ]
  },
  {
   "attachments": {},
   "cell_type": "markdown",
   "metadata": {},
   "source": [
    "#### Training your model"
   ]
  },
  {
   "cell_type": "code",
   "execution_count": 10,
   "metadata": {},
   "outputs": [
    {
     "name": "stdout",
     "output_type": "stream",
     "text": [
      "Epoch 1/20\n",
      "30/30 [==============================] - 6s 174ms/step - loss: 0.5401 - acc: 0.7683 - val_loss: 0.4089 - val_acc: 0.8546\n",
      "Epoch 2/20\n",
      "30/30 [==============================] - 1s 39ms/step - loss: 0.3359 - acc: 0.8898 - val_loss: 0.3170 - val_acc: 0.8837\n",
      "Epoch 3/20\n",
      "30/30 [==============================] - 1s 36ms/step - loss: 0.2503 - acc: 0.9155 - val_loss: 0.2927 - val_acc: 0.8841\n",
      "Epoch 4/20\n",
      "30/30 [==============================] - 1s 35ms/step - loss: 0.2011 - acc: 0.9321 - val_loss: 0.2741 - val_acc: 0.8908\n",
      "Epoch 5/20\n",
      "30/30 [==============================] - 1s 34ms/step - loss: 0.1706 - acc: 0.9435 - val_loss: 0.2905 - val_acc: 0.8812\n",
      "Epoch 6/20\n",
      "30/30 [==============================] - 1s 33ms/step - loss: 0.1420 - acc: 0.9538 - val_loss: 0.2805 - val_acc: 0.8873\n",
      "Epoch 7/20\n",
      "30/30 [==============================] - 1s 34ms/step - loss: 0.1252 - acc: 0.9618 - val_loss: 0.2919 - val_acc: 0.8869\n",
      "Epoch 8/20\n",
      "30/30 [==============================] - 1s 34ms/step - loss: 0.1041 - acc: 0.9683 - val_loss: 0.3485 - val_acc: 0.8744\n",
      "Epoch 9/20\n",
      "30/30 [==============================] - 1s 33ms/step - loss: 0.0891 - acc: 0.9743 - val_loss: 0.3187 - val_acc: 0.8834\n",
      "Epoch 10/20\n",
      "30/30 [==============================] - 1s 34ms/step - loss: 0.0794 - acc: 0.9783 - val_loss: 0.3367 - val_acc: 0.8810\n",
      "Epoch 11/20\n",
      "30/30 [==============================] - 1s 34ms/step - loss: 0.0666 - acc: 0.9823 - val_loss: 0.3793 - val_acc: 0.8753\n",
      "Epoch 12/20\n",
      "30/30 [==============================] - 1s 32ms/step - loss: 0.0562 - acc: 0.9875 - val_loss: 0.3957 - val_acc: 0.8702\n",
      "Epoch 13/20\n",
      "30/30 [==============================] - 1s 37ms/step - loss: 0.0483 - acc: 0.9898 - val_loss: 0.4009 - val_acc: 0.8732\n",
      "Epoch 14/20\n",
      "30/30 [==============================] - 1s 32ms/step - loss: 0.0406 - acc: 0.9911 - val_loss: 0.4164 - val_acc: 0.8759\n",
      "Epoch 15/20\n",
      "30/30 [==============================] - 1s 32ms/step - loss: 0.0332 - acc: 0.9935 - val_loss: 0.4391 - val_acc: 0.8750\n",
      "Epoch 16/20\n",
      "30/30 [==============================] - 1s 35ms/step - loss: 0.0269 - acc: 0.9955 - val_loss: 0.4652 - val_acc: 0.8735\n",
      "Epoch 17/20\n",
      "30/30 [==============================] - 1s 33ms/step - loss: 0.0230 - acc: 0.9965 - val_loss: 0.4993 - val_acc: 0.8675\n",
      "Epoch 18/20\n",
      "30/30 [==============================] - 1s 32ms/step - loss: 0.0188 - acc: 0.9975 - val_loss: 0.5121 - val_acc: 0.8712\n",
      "Epoch 19/20\n",
      "30/30 [==============================] - 1s 32ms/step - loss: 0.0158 - acc: 0.9985 - val_loss: 0.5452 - val_acc: 0.8678\n",
      "Epoch 20/20\n",
      "30/30 [==============================] - 1s 28ms/step - loss: 0.0146 - acc: 0.9983 - val_loss: 0.5598 - val_acc: 0.8693\n"
     ]
    }
   ],
   "source": [
    "model.compile(optimizer='rmsprop',\n",
    "              loss='binary_crossentropy',\n",
    "              metrics=['acc'])\n",
    "history = model.fit(partial_x_train,\n",
    "                    partial_y_train,\n",
    "                    epochs=20,\n",
    "                    batch_size=512,\n",
    "                    validation_data=(x_val, y_val))\n"
   ]
  },
  {
   "attachments": {},
   "cell_type": "markdown",
   "metadata": {},
   "source": [
    "#### Dictionary of history values"
   ]
  },
  {
   "cell_type": "code",
   "execution_count": 11,
   "metadata": {},
   "outputs": [
    {
     "data": {
      "text/plain": [
       "dict_keys(['loss', 'acc', 'val_loss', 'val_acc'])"
      ]
     },
     "execution_count": 11,
     "metadata": {},
     "output_type": "execute_result"
    }
   ],
   "source": [
    "history_dict = history.history\n",
    "history_dict.keys()"
   ]
  },
  {
   "attachments": {},
   "cell_type": "markdown",
   "metadata": {},
   "source": [
    "#### Plotting the training and validation loss"
   ]
  },
  {
   "cell_type": "code",
   "execution_count": 12,
   "metadata": {},
   "outputs": [
    {
     "data": {
      "image/png": "[encoded data removed]",
      "text/plain": [
       "<Figure size 640x480 with 1 Axes>"
      ]
     },
     "metadata": {},
     "output_type": "display_data"
    }
   ],
   "source": [
    "import matplotlib.pyplot as plt\n",
    "history_dict = history.history\n",
    "loss_values = history_dict['loss']\n",
    "val_loss_values = history_dict['val_loss']\n",
    "epochs = range(1, len(loss_values) + 1)\n",
    "plt.plot(epochs, loss_values, 'bo', label='Training loss')\n",
    "plt.plot(epochs, val_loss_values, 'b', label='Validation loss')\n",
    "plt.title('Training and validation loss')\n",
    "plt.xlabel('Epochs')\n",
    "plt.ylabel('Loss')\n",
    "plt.legend()\n",
    "plt.show()\n"
   ]
  },
  {
   "attachments": {},
   "cell_type": "markdown",
   "metadata": {},
   "source": [
    "#### Plotting the training and validation accuracy"
   ]
  },
  {
   "cell_type": "code",
   "execution_count": 13,
   "metadata": {},
   "outputs": [
    {
     "data": {
      "image/png": "[encoded data removed]",
      "text/plain": [
       "<Figure size 640x480 with 1 Axes>"
      ]
     },
     "metadata": {},
     "output_type": "display_data"
    }
   ],
   "source": [
    "acc_values = history_dict['acc']\n",
    "val_acc_values = history_dict['val_acc']\n",
    "plt.plot(epochs, acc_values, 'bo', label='Training acc')\n",
    "plt.plot(epochs, val_acc_values, 'b', label='Validation acc')\n",
    "plt.title('Training and validation accuracy')\n",
    "plt.xlabel('Epochs')\n",
    "plt.ylabel('Loss')\n",
    "plt.legend()\n",
    "plt.show()\n"
   ]
  },
  {
   "attachments": {},
   "cell_type": "markdown",
   "metadata": {},
   "source": [
    "#### Retrain from scratch"
   ]
  },
  {
   "cell_type": "code",
   "execution_count": 14,
   "metadata": {},
   "outputs": [
    {
     "name": "stdout",
     "output_type": "stream",
     "text": [
      "Epoch 1/4\n",
      "49/49 [==============================] - 3s 34ms/step - loss: 0.4755 - accuracy: 0.8121\n",
      "Epoch 2/4\n",
      "49/49 [==============================] - 1s 30ms/step - loss: 0.2828 - accuracy: 0.9008\n",
      "Epoch 3/4\n",
      "49/49 [==============================] - 1s 26ms/step - loss: 0.2223 - accuracy: 0.9213\n",
      "Epoch 4/4\n",
      "49/49 [==============================] - 1s 25ms/step - loss: 0.1886 - accuracy: 0.9334\n",
      "782/782 [==============================] - 2s 3ms/step - loss: 0.2948 - accuracy: 0.8809\n"
     ]
    }
   ],
   "source": [
    "model = models.Sequential()\n",
    "model.add(layers.Dense(16, activation='relu', input_shape=(10000,)))\n",
    "model.add(layers.Dense(16, activation='relu'))\n",
    "model.add(layers.Dense(1, activation='sigmoid'))\n",
    "model.compile(optimizer='rmsprop',\n",
    "              loss='binary_crossentropy',\n",
    "              metrics=['accuracy'])\n",
    "model.fit(x_train, y_train, epochs=4, batch_size=512)\n",
    "results = model.evaluate(x_test, y_test)\n"
   ]
  },
  {
   "attachments": {},
   "cell_type": "markdown",
   "metadata": {},
   "source": [
    "#### Final results"
   ]
  },
  {
   "cell_type": "code",
   "execution_count": 15,
   "metadata": {},
   "outputs": [
    {
     "data": {
      "text/plain": [
       "[0.29480335116386414, 0.8809199929237366]"
      ]
     },
     "execution_count": 15,
     "metadata": {},
     "output_type": "execute_result"
    }
   ],
   "source": [
    "results"
   ]
  }
 ],
 "metadata": {
  "kernelspec": {
   "display_name": "Python 3",
   "language": "python",
   "name": "python3"
  },
  "language_info": {
   "codemirror_mode": {
    "name": "ipython",
    "version": 3
   },
   "file_extension": ".py",
   "mimetype": "text/x-python",
   "name": "python",
   "nbconvert_exporter": "python",
   "pygments_lexer": "ipython3",
   "version": "3.11.1"
  },
  "orig_nbformat": 4
 },
 "nbformat": 4,
 "nbformat_minor": 2
}
