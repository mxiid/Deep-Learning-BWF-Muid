{
 "cells": [
  {
   "attachments": {},
   "cell_type": "markdown",
   "metadata": {},
   "source": [
    ">## Task 22"
   ]
  },
  {
   "attachments": {},
   "cell_type": "markdown",
   "metadata": {},
   "source": [
    "### Fundamentals of Machine Learning"
   ]
  },
  {
   "attachments": {},
   "cell_type": "markdown",
   "metadata": {},
   "source": [
    "#### Four Branches of Machine Learning"
   ]
  },
  {
   "attachments": {},
   "cell_type": "markdown",
   "metadata": {},
   "source": [
    "##### 1. Supervised Learning"
   ]
  },
  {
   "attachments": {},
   "cell_type": "markdown",
   "metadata": {},
   "source": [
    "- The most common branch of machine learning.\n",
    "- Consists of input data to known targets called *annotations*.\n",
    "- Optical character recognition, speech recognition, image classification, and language translation are all examples of supervised learning.\n",
    "- _**Sequence generation**_ is where the output is a sequence of values such as a sentence translation.\n",
    "- _**Syntax tree prediction**_ is where the input is a sequence of values and the output is a tree of values that shows the relationship between the values in the sequence.\n",
    "- _**Object detection**_ is  where the input is an image and the output is a list of bounding boxes around the objects in the image.\n",
    "- _**Image segmentation**_ is  where the input is an image and the output is a mask that shows which pixels belong to which object."
   ]
  },
  {
   "attachments": {},
   "cell_type": "markdown",
   "metadata": {},
   "source": [
    "##### 2. Unsupervised Learning"
   ]
  },
  {
   "attachments": {},
   "cell_type": "markdown",
   "metadata": {},
   "source": [
    "- The branch of machine learning where the training data consists of input data without any corresponding targets.\n",
    "- Used for the purposes of data visualization, data compression, or data denoising.\n",
    "- _**Dimensionality reduction**_ is where the input data is a high-dimensional space and the output data is a lower-dimensional space.\n",
    "- _**Clustering**_ is where the input data is a high-dimensional space and the output data is a set of clusters."
   ]
  },
  {
   "attachments": {},
   "cell_type": "markdown",
   "metadata": {},
   "source": [
    "##### 3. Self-supervised Learning"
   ]
  },
  {
   "attachments": {},
   "cell_type": "markdown",
   "metadata": {},
   "source": [
    "- The branch of machine learning where the training data is generated from the input data without any human-annotated labels (typically using a heuristic algorithm).\n",
    "- _**Autoencoders**_ are a common example of self-supervised learning. The input data is the target data, and the output data is the input data. The autoencoder learns to compress the input data into a lower-dimensional space and then decompress it back into the original input data.\n",
    "- Predicting the next frame in a video, predicting the next word in a sentence, and predicting the missing word in a sentence are all examples of self-supervised learning."
   ]
  },
  {
   "attachments": {},
   "cell_type": "markdown",
   "metadata": {},
   "source": [
    "##### 4. Reinforcement Learning"
   ]
  },
  {
   "attachments": {},
   "cell_type": "markdown",
   "metadata": {},
   "source": [
    "- The branch of machine learning where the agent learns to perform actions in an environment to maximize a reward.\n",
    "- A neural network that plays a video game is an example of reinforcement learning."
   ]
  },
  {
   "attachments": {},
   "cell_type": "markdown",
   "metadata": {},
   "source": [
    "#### Classification and Regression Glossary"
   ]
  },
  {
   "attachments": {},
   "cell_type": "markdown",
   "metadata": {},
   "source": [
    "- _**Sample**_ is a single data point that goes into your model.\n",
    "- _**Prediction**_ is the output of your model.\n",
    "- _**Target**_ is the truth. What your model should ideally have predicted, according to an external source of data.\n",
    "- _**Prediction error**_ is the difference between the target and the prediction.\n",
    "- _**Classes**_ are a set of possible labels to choose from in a classification problem.\n",
    "- _**Label**_ is a specific instance of a class annotation in a classification problem.\n",
    "- _**Ground-truth**_ is all the labels for a dataset, typically collected by humans.\n",
    "- _**Binary classification**_ is a classification task where each sample is assigned one of two possible labels.\n",
    "- _**Multiclass classification**_ is a classification task where each sample is assigned one of more than two possible labels.\n",
    "- _**Multilabel classification**_ is a classification task where each sample is assigned a set of target labels. This can be thought of as predicting properties of a data-point that are not mutually exclusive.\n",
    "- _**Scalar regression**_ is a task where the target is a continuous scalar value.\n",
    "- _**Vector regression**_ is a task where the target is a set of continuous values.\n",
    "- _**Mini-batch**_ is a small set of samples (typically between 8 and 128) that are processed simultaneously by the model. The number of samples is often a power of 2, to facilitate memory allocation on GPU. When training, a mini-batch is used to compute a single gradient-descent update applied to the weights of the model."
   ]
  }
 ],
 "metadata": {
  "language_info": {
   "name": "python"
  },
  "orig_nbformat": 4
 },
 "nbformat": 4,
 "nbformat_minor": 2
}
