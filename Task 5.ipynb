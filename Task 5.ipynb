{
 "cells": [
  {
   "attachments": {},
   "cell_type": "markdown",
   "metadata": {},
   "source": [
    ">## Task 5"
   ]
  },
  {
   "attachments": {},
   "cell_type": "markdown",
   "metadata": {},
   "source": [
    "### Exercise 5.4: Alien Colors #2."
   ]
  },
  {
   "cell_type": "code",
   "execution_count": 5,
   "metadata": {},
   "outputs": [
    {
     "name": "stdout",
     "output_type": "stream",
     "text": [
      "You just earned 10 points!\n"
     ]
    }
   ],
   "source": [
    "alienColor = 'purple'\n",
    "\n",
    "if alienColor == 'green':\n",
    "    print(\"You just earned 5 points!\")\n",
    "else:\n",
    "    print(\"You just earned 10 points!\")"
   ]
  },
  {
   "attachments": {},
   "cell_type": "markdown",
   "metadata": {},
   "source": [
    "### Exercise 5.5: Alien Colors #3."
   ]
  },
  {
   "cell_type": "code",
   "execution_count": 6,
   "metadata": {},
   "outputs": [
    {
     "name": "stdout",
     "output_type": "stream",
     "text": [
      "You just earned 15 points!\n"
     ]
    }
   ],
   "source": [
    "alienColor='red'\n",
    "\n",
    "if alienColor == 'green':\n",
    "    print(\"You just earned 5 points!\")\n",
    "elif alienColor == 'yellow':\n",
    "    print(\"You just earned 10 points!\")\n",
    "else:\n",
    "    print(\"You just earned 15 points!\")"
   ]
  },
  {
   "attachments": {},
   "cell_type": "markdown",
   "metadata": {},
   "source": [
    "### Exercise 5.6: Stages of Life."
   ]
  },
  {
   "cell_type": "code",
   "execution_count": 7,
   "metadata": {},
   "outputs": [
    {
     "name": "stdout",
     "output_type": "stream",
     "text": [
      "You are a kid\n"
     ]
    }
   ],
   "source": [
    "age = 12\n",
    "\n",
    "if age < 2:\n",
    "    print(\"You are a baby\")\n",
    "elif age < 4:\n",
    "    print(\"You are a toddler\")\n",
    "elif age < 13:\n",
    "    print(\"You are a kid\")\n",
    "elif age < 20:\n",
    "    print(\"You are a teenager\")\n",
    "elif age < 65:\n",
    "    print(\"You are an adult\")"
   ]
  },
  {
   "attachments": {},
   "cell_type": "markdown",
   "metadata": {},
   "source": [
    "### Exercise 5.7: Favorite Fruit."
   ]
  },
  {
   "cell_type": "code",
   "execution_count": 8,
   "metadata": {},
   "outputs": [
    {
     "name": "stdout",
     "output_type": "stream",
     "text": [
      "You really like apples!\n",
      "You really like bananas!\n"
     ]
    }
   ],
   "source": [
    "fruits=['apple','banana','orange','grape','watermelon']\n",
    "\n",
    "if 'apple' in fruits:\n",
    "    print(\"You really like apples!\")\n",
    "if 'banana' in fruits:\n",
    "    print(\"You really like bananas!\")"
   ]
  },
  {
   "attachments": {},
   "cell_type": "markdown",
   "metadata": {},
   "source": [
    "### Exercise 5.8: Hello Admin."
   ]
  },
  {
   "cell_type": "code",
   "execution_count": 9,
   "metadata": {},
   "outputs": [
    {
     "name": "stdout",
     "output_type": "stream",
     "text": [
      "Hello admin, would you like to see a status report?\n",
      "Hello user1, thank you for logging in again.\n",
      "Hello user2, thank you for logging in again.\n",
      "Hello user3, thank you for logging in again.\n",
      "Hello user4, thank you for logging in again.\n"
     ]
    }
   ],
   "source": [
    "users=['admin','user1','user2','user3','user4']\n",
    "\n",
    "for user in users:\n",
    "    if user == 'admin':\n",
    "        print(\"Hello admin, would you like to see a status report?\")\n",
    "    else:\n",
    "        print(\"Hello \"+user+\", thank you for logging in again.\")"
   ]
  },
  {
   "attachments": {},
   "cell_type": "markdown",
   "metadata": {},
   "source": [
    "### Exercise 5.10: Checking Usernames."
   ]
  },
  {
   "cell_type": "code",
   "execution_count": 12,
   "metadata": {},
   "outputs": [
    {
     "name": "stdout",
     "output_type": "stream",
     "text": [
      "Sorry, admin is taken.\n",
      "Sorry, user4 is taken.\n",
      "user5 is available.\n",
      "user6 is available.\n",
      "user7 is available.\n"
     ]
    }
   ],
   "source": [
    "currentUsers=['admin','user1','user2','user3','user4']\n",
    "newUsers=['admin','user4','user5','user6','user7']\n",
    "\n",
    "currentUsersLower=[user.lower() for user in currentUsers]\n",
    "\n",
    "for newUser in newUsers:\n",
    "    if newUser.lower() in currentUsersLower:\n",
    "        print(\"Sorry, \"+newUser+\" is taken.\")\n",
    "    else:\n",
    "        print(newUser+\" is available.\")"
   ]
  },
  {
   "attachments": {},
   "cell_type": "markdown",
   "metadata": {},
   "source": [
    "### Exercise 5.11: Ordinal Numbers."
   ]
  },
  {
   "cell_type": "code",
   "execution_count": 13,
   "metadata": {},
   "outputs": [
    {
     "name": "stdout",
     "output_type": "stream",
     "text": [
      "1st\n",
      "2nd\n",
      "3rd\n",
      "4th\n",
      "5th\n",
      "6th\n",
      "7th\n",
      "8th\n",
      "9th\n"
     ]
    }
   ],
   "source": [
    "numbers=list(range(1,10))\n",
    "\n",
    "for number in numbers:\n",
    "    if number==1:\n",
    "        print(str(number)+\"st\")\n",
    "    elif number==2:\n",
    "        print(str(number)+\"nd\")\n",
    "    elif number==3:\n",
    "        print(str(number)+\"rd\")\n",
    "    else:\n",
    "        print(str(number)+\"th\")"
   ]
  },
  {
   "attachments": {},
   "cell_type": "markdown",
   "metadata": {},
   "source": [
    "### Exercise 7.1: Rental Car."
   ]
  },
  {
   "cell_type": "code",
   "execution_count": 14,
   "metadata": {},
   "outputs": [
    {
     "name": "stdout",
     "output_type": "stream",
     "text": [
      "Let me see if I can find you a Subaru\n"
     ]
    }
   ],
   "source": [
    "car=input(\"What kind of car would you like to rent?\")\n",
    "print(\"Let me see if I can find you a \"+car)"
   ]
  },
  {
   "attachments": {},
   "cell_type": "markdown",
   "metadata": {},
   "source": [
    "### Exercise 7.2: Restaurant Seating."
   ]
  },
  {
   "cell_type": "code",
   "execution_count": 15,
   "metadata": {},
   "outputs": [
    {
     "name": "stdout",
     "output_type": "stream",
     "text": [
      "Your table is ready.\n"
     ]
    }
   ],
   "source": [
    "partySize = input(\"How many people are in your dinner party tonight? \")\n",
    "partySize = int(partySize)\n",
    "\n",
    "if partySize > 8:\n",
    "    print(\"I'm sorry, you'll have to wait for a table.\")\n",
    "else:\n",
    "    print(\"Your table is ready.\")\n"
   ]
  },
  {
   "attachments": {},
   "cell_type": "markdown",
   "metadata": {},
   "source": [
    "### Exercise 7.3: Multiples of Ten."
   ]
  },
  {
   "cell_type": "code",
   "execution_count": 16,
   "metadata": {},
   "outputs": [
    {
     "name": "stdout",
     "output_type": "stream",
     "text": [
      "20 is a multiple of 10.\n"
     ]
    }
   ],
   "source": [
    "number=input(\"Please enter a number: \")\n",
    "number=int(number)\n",
    "\n",
    "if number%10==0:\n",
    "    print(str(number)+\" is a multiple of 10.\")\n",
    "else:\n",
    "    print(str(number)+\" is not a multiple of 10.\")"
   ]
  },
  {
   "attachments": {},
   "cell_type": "markdown",
   "metadata": {},
   "source": [
    "### Exercise 7.4: Pizza Toppings."
   ]
  },
  {
   "cell_type": "code",
   "execution_count": 17,
   "metadata": {},
   "outputs": [
    {
     "name": "stdout",
     "output_type": "stream",
     "text": [
      "I'll add Pepperoni to your pizza.\n",
      "I'll add Sausage to your pizza.\n",
      "I'll add Olives to your pizza.\n"
     ]
    }
   ],
   "source": [
    "prompt=\"What toppings would you like on your pizza?\\nEnter 'quit' when you are finished. \"\n",
    "\n",
    "while True:\n",
    "    topping=input(prompt)\n",
    "    if topping=='quit':\n",
    "        break\n",
    "    else:\n",
    "        print(\"I'll add \"+topping+\" to your pizza.\")"
   ]
  }
 ],
 "metadata": {
  "kernelspec": {
   "display_name": "Python 3",
   "language": "python",
   "name": "python3"
  },
  "language_info": {
   "codemirror_mode": {
    "name": "ipython",
    "version": 3
   },
   "file_extension": ".py",
   "mimetype": "text/x-python",
   "name": "python",
   "nbconvert_exporter": "python",
   "pygments_lexer": "ipython3",
   "version": "3.11.1"
  },
  "orig_nbformat": 4
 },
 "nbformat": 4,
 "nbformat_minor": 2
}
