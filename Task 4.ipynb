{
 "cells": [
  {
   "attachments": {},
   "cell_type": "markdown",
   "metadata": {},
   "source": [
    ">## Task 4"
   ]
  },
  {
   "attachments": {},
   "cell_type": "markdown",
   "metadata": {},
   "source": [
    "### Exercise 3.1: Names."
   ]
  },
  {
   "cell_type": "code",
   "execution_count": 2,
   "metadata": {},
   "outputs": [
    {
     "name": "stdout",
     "output_type": "stream",
     "text": [
      "Saad\n",
      "Sarmad\n",
      "Hadi\n"
     ]
    }
   ],
   "source": [
    "names=['Saad', 'Sarmad', 'Hadi']\n",
    "print(names[0])\n",
    "print(names[1])\n",
    "print(names[2])"
   ]
  },
  {
   "attachments": {},
   "cell_type": "markdown",
   "metadata": {},
   "source": [
    "### Exercise 3.2: Greetings."
   ]
  },
  {
   "cell_type": "code",
   "execution_count": 3,
   "metadata": {},
   "outputs": [
    {
     "name": "stdout",
     "output_type": "stream",
     "text": [
      "Hi, Saad\n",
      "Hi, Sarmad\n",
      "Hi, Hadi\n"
     ]
    }
   ],
   "source": [
    "names=['Saad', 'Sarmad', 'Hadi']\n",
    "print(\"Hi, \"+names[0])\n",
    "print(\"Hi, \"+names[1])\n",
    "print(\"Hi, \"+names[2])"
   ]
  },
  {
   "attachments": {},
   "cell_type": "markdown",
   "metadata": {},
   "source": [
    "### Exercise 3.3: Your own list."
   ]
  },
  {
   "cell_type": "code",
   "execution_count": 4,
   "metadata": {},
   "outputs": [
    {
     "name": "stdout",
     "output_type": "stream",
     "text": [
      "I would like to own a car\n",
      "I would love to drive a bike\n",
      "I would like to travel by bus\n"
     ]
    }
   ],
   "source": [
    "transportation=['car', 'bike', 'bus']\n",
    "print(\"I would like to own a \"+transportation[0])\n",
    "print(\"I would love to drive a \"+transportation[1])\n",
    "print(\"I would like to travel by \"+transportation[2])"
   ]
  },
  {
   "attachments": {},
   "cell_type": "markdown",
   "metadata": {},
   "source": [
    "### Exercise 3.4: Guest list."
   ]
  },
  {
   "cell_type": "code",
   "execution_count": 5,
   "metadata": {},
   "outputs": [
    {
     "name": "stdout",
     "output_type": "stream",
     "text": [
      "Hi, Saad, I would like to invite you for dinner.\n",
      "Hi, Sarmad, I would like to invite you for dinner.\n",
      "Hi, Hadi, I would like to invite you for dinner.\n"
     ]
    }
   ],
   "source": [
    "guestList=['Saad', 'Sarmad', 'Hadi']\n",
    "print(\"Hi, \"+guestList[0]+\", I would like to invite you for dinner.\")\n",
    "print(\"Hi, \"+guestList[1]+\", I would like to invite you for dinner.\")\n",
    "print(\"Hi, \"+guestList[2]+\", I would like to invite you for dinner.\")"
   ]
  },
  {
   "attachments": {},
   "cell_type": "markdown",
   "metadata": {},
   "source": [
    "### Exercise 3.5: Changing guest list."
   ]
  },
  {
   "cell_type": "code",
   "execution_count": 6,
   "metadata": {},
   "outputs": [
    {
     "name": "stdout",
     "output_type": "stream",
     "text": [
      "Hi, Saad, I would like to invite you for dinner.\n",
      "Hi, Sarmad, I would like to invite you for dinner.\n",
      "Hi, Hadi, I would like to invite you for dinner.\n",
      "Sarmad can't make it to dinner.\n",
      "Hi, Saad, I would like to invite you for dinner.\n",
      "Hi, Ali, I would like to invite you for dinner.\n",
      "Hi, Hadi, I would like to invite you for dinner.\n"
     ]
    }
   ],
   "source": [
    "guestList=['Saad', 'Sarmad', 'Hadi']\n",
    "print(\"Hi, \"+guestList[0]+\", I would like to invite you for dinner.\")\n",
    "print(\"Hi, \"+guestList[1]+\", I would like to invite you for dinner.\")\n",
    "print(\"Hi, \"+guestList[2]+\", I would like to invite you for dinner.\")\n",
    "print(guestList[1]+\" can't make it to dinner.\")\n",
    "guestList[1]='Ali'\n",
    "print(\"Hi, \"+guestList[0]+\", I would like to invite you for dinner.\")\n",
    "print(\"Hi, \"+guestList[1]+\", I would like to invite you for dinner.\")\n",
    "print(\"Hi, \"+guestList[2]+\", I would like to invite you for dinner.\")"
   ]
  },
  {
   "attachments": {},
   "cell_type": "markdown",
   "metadata": {},
   "source": [
    "### Exercise 3.6: More guests."
   ]
  },
  {
   "cell_type": "code",
   "execution_count": 7,
   "metadata": {},
   "outputs": [
    {
     "name": "stdout",
     "output_type": "stream",
     "text": [
      "Hi, Saad, I would like to invite you for dinner.\n",
      "Hi, Sarmad, I would like to invite you for dinner.\n",
      "Hi, Hadi, I would like to invite you for dinner.\n",
      "We have found a bigger dinner table.\n",
      "Hi, Ali, I would like to invite you for dinner.\n",
      "Hi, Saad, I would like to invite you for dinner.\n",
      "Hi, Ahmed, I would like to invite you for dinner.\n",
      "Hi, Sarmad, I would like to invite you for dinner.\n",
      "Hi, Hadi, I would like to invite you for dinner.\n",
      "Hi, Zain, I would like to invite you for dinner.\n"
     ]
    }
   ],
   "source": [
    "guestList=['Saad', 'Sarmad', 'Hadi']\n",
    "print(\"Hi, \"+guestList[0]+\", I would like to invite you for dinner.\")\n",
    "print(\"Hi, \"+guestList[1]+\", I would like to invite you for dinner.\")\n",
    "print(\"Hi, \"+guestList[2]+\", I would like to invite you for dinner.\")\n",
    "print(\"We have found a bigger dinner table.\")\n",
    "guestList.insert(0,'Ali')\n",
    "guestList.insert(2,'Ahmed')\n",
    "guestList.append('Zain')\n",
    "print(\"Hi, \"+guestList[0]+\", I would like to invite you for dinner.\")\n",
    "print(\"Hi, \"+guestList[1]+\", I would like to invite you for dinner.\")\n",
    "print(\"Hi, \"+guestList[2]+\", I would like to invite you for dinner.\")\n",
    "print(\"Hi, \"+guestList[3]+\", I would like to invite you for dinner.\")\n",
    "print(\"Hi, \"+guestList[4]+\", I would like to invite you for dinner.\")\n",
    "print(\"Hi, \"+guestList[5]+\", I would like to invite you for dinner.\")"
   ]
  },
  {
   "attachments": {},
   "cell_type": "markdown",
   "metadata": {},
   "source": [
    "### Exercise 3.7: Shrinking guest list."
   ]
  },
  {
   "cell_type": "code",
   "execution_count": 14,
   "metadata": {},
   "outputs": [
    {
     "name": "stdout",
     "output_type": "stream",
     "text": [
      "Hi, Saad, I would like to invite you for dinner.\n",
      "Hi, Sarmad, I would like to invite you for dinner.\n",
      "Hi, Hadi, I would like to invite you for dinner.\n",
      "We have found a bigger dinner table.\n",
      "Hi, Ali, I would like to invite you for dinner.\n",
      "Hi, Saad, I would like to invite you for dinner.\n",
      "Hi, Ahmed, I would like to invite you for dinner.\n",
      "Hi, Sarmad, I would like to invite you for dinner.\n",
      "Hi, Hadi, I would like to invite you for dinner.\n",
      "Hi, Zain, I would like to invite you for dinner.\n",
      "The table won't arrive in time, so we can only invite two people.\n",
      "Sorry, Zain, I can't invite you for dinner.\n",
      "Sorry, Hadi, I can't invite you for dinner.\n",
      "Sorry, Sarmad, I can't invite you for dinner.\n",
      "Sorry, Ahmed, I can't invite you for dinner.\n",
      "Hi, Ali, I would like to invite you for dinner.\n",
      "Hi, Saad, I would like to invite you for dinner.\n",
      "[]\n"
     ]
    }
   ],
   "source": [
    "guestList = ['Saad', 'Sarmad', 'Hadi']\n",
    "print(\"Hi, \"+guestList[0]+\", I would like to invite you for dinner.\")\n",
    "print(\"Hi, \"+guestList[1]+\", I would like to invite you for dinner.\")\n",
    "print(\"Hi, \"+guestList[2]+\", I would like to invite you for dinner.\")\n",
    "print(\"We have found a bigger dinner table.\")\n",
    "guestList.insert(0, 'Ali')\n",
    "guestList.insert(2, 'Ahmed')\n",
    "guestList.append('Zain')\n",
    "print(\"Hi, \"+guestList[0]+\", I would like to invite you for dinner.\")\n",
    "print(\"Hi, \"+guestList[1]+\", I would like to invite you for dinner.\")\n",
    "print(\"Hi, \"+guestList[2]+\", I would like to invite you for dinner.\")\n",
    "print(\"Hi, \"+guestList[3]+\", I would like to invite you for dinner.\")\n",
    "print(\"Hi, \"+guestList[4]+\", I would like to invite you for dinner.\")\n",
    "print(\"Hi, \"+guestList[5]+\", I would like to invite you for dinner.\")\n",
    "print(\"The table won't arrive in time, so we can only invite two people.\")\n",
    "\n",
    "print(\"Sorry, \"+guestList.pop()+\", I can't invite you for dinner.\")\n",
    "print(\"Sorry, \"+guestList.pop()+\", I can't invite you for dinner.\")\n",
    "print(\"Sorry, \"+guestList.pop()+\", I can't invite you for dinner.\")\n",
    "print(\"Sorry, \"+guestList.pop()+\", I can't invite you for dinner.\")\n",
    "\n",
    "print(\"Hi, \"+guestList[0]+\", I would like to invite you for dinner.\")\n",
    "print(\"Hi, \"+guestList[1]+\", I would like to invite you for dinner.\")\n",
    "del guestList[0]\n",
    "del guestList[0]\n",
    "print(guestList)"
   ]
  },
  {
   "attachments": {},
   "cell_type": "markdown",
   "metadata": {},
   "source": [
    "### Exercise 3.8: Seeing the world."
   ]
  },
  {
   "cell_type": "code",
   "execution_count": 2,
   "metadata": {},
   "outputs": [
    {
     "name": "stdout",
     "output_type": "stream",
     "text": [
      "['Paris', 'London', 'New York', 'Dubai', 'Rome']\n",
      "['Dubai', 'London', 'New York', 'Paris', 'Rome']\n",
      "['Paris', 'London', 'New York', 'Dubai', 'Rome']\n",
      "['Rome', 'Paris', 'New York', 'London', 'Dubai']\n",
      "['Paris', 'London', 'New York', 'Dubai', 'Rome']\n",
      "['Rome', 'Dubai', 'New York', 'London', 'Paris']\n",
      "['Paris', 'London', 'New York', 'Dubai', 'Rome']\n",
      "['Dubai', 'London', 'New York', 'Paris', 'Rome']\n",
      "['Rome', 'Paris', 'New York', 'London', 'Dubai']\n"
     ]
    }
   ],
   "source": [
    "places=['Paris', 'London', 'New York', 'Dubai', 'Rome']\n",
    "print(places)\n",
    "print(sorted(places))\n",
    "print(places)\n",
    "print(sorted(places, reverse=True))\n",
    "print(places)\n",
    "places.reverse()\n",
    "print(places)\n",
    "places.reverse()\n",
    "print(places)\n",
    "places.sort()\n",
    "print(places)\n",
    "places.sort(reverse=True)\n",
    "print(places)"
   ]
  },
  {
   "attachments": {},
   "cell_type": "markdown",
   "metadata": {},
   "source": [
    "### Exercise 3.9: Dinner guests."
   ]
  },
  {
   "cell_type": "code",
   "execution_count": 3,
   "metadata": {},
   "outputs": [
    {
     "name": "stdout",
     "output_type": "stream",
     "text": [
      "3\n"
     ]
    }
   ],
   "source": [
    "guestList=['Saad', 'Sarmad', 'Hadi']\n",
    "print(len(guestList))"
   ]
  },
  {
   "attachments": {},
   "cell_type": "markdown",
   "metadata": {},
   "source": [
    "### Exercise 3.10: Every function."
   ]
  },
  {
   "cell_type": "code",
   "execution_count": 4,
   "metadata": {},
   "outputs": [
    {
     "name": "stdout",
     "output_type": "stream",
     "text": [
      "['German', 'English', 'Chinese', 'Urdu', 'Arabic', 'French', 'Spanish', 'Italian']\n",
      "['German', 'English', 'Chinese', 'Urdu', 'Arabic', 'French', 'Spanish']\n",
      "['Arabic', 'Chinese', 'English', 'French', 'German', 'Spanish', 'Urdu']\n",
      "['Urdu', 'Spanish', 'German', 'French', 'English', 'Chinese', 'Arabic']\n",
      "['Spanish', 'French', 'Arabic', 'Urdu', 'Chinese', 'English', 'German']\n",
      "['German', 'English', 'Chinese', 'Urdu', 'Arabic', 'French', 'Spanish']\n",
      "['Arabic', 'Chinese', 'English', 'French', 'German', 'Spanish', 'Urdu']\n"
     ]
    }
   ],
   "source": [
    "languages=['English', 'Urdu', 'Arabic', 'French', 'Spanish']\n",
    "languages.insert(0, 'German')\n",
    "languages.append('Italian')\n",
    "languages.insert(2, 'Chinese')\n",
    "print(languages)\n",
    "languages.pop()\n",
    "print(languages)\n",
    "print(sorted(languages))\n",
    "print(sorted(languages, reverse=True))\n",
    "languages.reverse()\n",
    "print(languages)\n",
    "languages.reverse()\n",
    "print(languages)\n",
    "languages.sort()\n",
    "print(languages)"
   ]
  },
  {
   "attachments": {},
   "cell_type": "markdown",
   "metadata": {},
   "source": [
    "### Exercise 4.1: Pizzas."
   ]
  },
  {
   "cell_type": "code",
   "execution_count": 5,
   "metadata": {},
   "outputs": [
    {
     "name": "stdout",
     "output_type": "stream",
     "text": [
      "I like Chicken Tikka pizza.\n",
      "I like BBQ pizza.\n",
      "I like Chicken Supreme pizza.\n",
      "I really love pizza!\n"
     ]
    }
   ],
   "source": [
    "pizzas=['Chicken Tikka', 'BBQ', 'Chicken Supreme']\n",
    "for pizza in pizzas:\n",
    "    print(\"I like \"+pizza+\" pizza.\")\n",
    "print(\"I really love pizza!\")"
   ]
  },
  {
   "attachments": {},
   "cell_type": "markdown",
   "metadata": {},
   "source": [
    "### Exercise 4.2: Animals."
   ]
  },
  {
   "cell_type": "code",
   "execution_count": 6,
   "metadata": {},
   "outputs": [
    {
     "name": "stdout",
     "output_type": "stream",
     "text": [
      "A Dog would make a great pet.\n",
      "A Cat would make a great pet.\n",
      "A Rabbit would make a great pet.\n",
      "Any of these animals would make a great pet!\n"
     ]
    }
   ],
   "source": [
    "animals=['Dog', 'Cat', 'Rabbit']\n",
    "for animal in animals:\n",
    "    print(\"A \"+animal+\" would make a great pet.\")\n",
    "print(\"Any of these animals would make a great pet!\")"
   ]
  },
  {
   "attachments": {},
   "cell_type": "markdown",
   "metadata": {},
   "source": [
    "### Exercise 4.3: Counting to twenty."
   ]
  },
  {
   "cell_type": "code",
   "execution_count": 8,
   "metadata": {},
   "outputs": [
    {
     "name": "stdout",
     "output_type": "stream",
     "text": [
      "1\n",
      "2\n",
      "3\n",
      "4\n",
      "5\n",
      "6\n",
      "7\n",
      "8\n",
      "9\n",
      "10\n",
      "11\n",
      "12\n",
      "13\n",
      "14\n",
      "15\n",
      "16\n",
      "17\n",
      "18\n",
      "19\n",
      "20\n"
     ]
    }
   ],
   "source": [
    "for num in range(20):\n",
    "    print(num+1)"
   ]
  },
  {
   "attachments": {},
   "cell_type": "markdown",
   "metadata": {},
   "source": [
    "### Exercise 4.5: Summing a million."
   ]
  },
  {
   "cell_type": "code",
   "execution_count": 17,
   "metadata": {},
   "outputs": [
    {
     "name": "stdout",
     "output_type": "stream",
     "text": [
      "1\n",
      "1000000\n",
      "500000500000\n"
     ]
    }
   ],
   "source": [
    "numbers=list(range(1, 1000001))\n",
    "print(min(numbers))\n",
    "print(max(numbers))\n",
    "print(sum(numbers))"
   ]
  },
  {
   "attachments": {},
   "cell_type": "markdown",
   "metadata": {},
   "source": [
    "### Exercise 4.6: Odd numbers."
   ]
  },
  {
   "cell_type": "code",
   "execution_count": 18,
   "metadata": {},
   "outputs": [
    {
     "name": "stdout",
     "output_type": "stream",
     "text": [
      "1\n",
      "3\n",
      "5\n",
      "7\n",
      "9\n",
      "11\n",
      "13\n",
      "15\n",
      "17\n",
      "19\n"
     ]
    }
   ],
   "source": [
    "oddNumbers=list(range(1, 21, 2))\n",
    "for oddNumber in oddNumbers:\n",
    "    print(oddNumber)"
   ]
  },
  {
   "attachments": {},
   "cell_type": "markdown",
   "metadata": {},
   "source": [
    "### Exercise 4.7: Threes."
   ]
  },
  {
   "cell_type": "code",
   "execution_count": 19,
   "metadata": {},
   "outputs": [
    {
     "name": "stdout",
     "output_type": "stream",
     "text": [
      "3\n",
      "6\n",
      "9\n",
      "12\n",
      "15\n",
      "18\n",
      "21\n",
      "24\n",
      "27\n",
      "30\n"
     ]
    }
   ],
   "source": [
    "threes = list(range(3, 31, 3))\n",
    "\n",
    "for number in threes:\n",
    "    print(number)"
   ]
  },
  {
   "attachments": {},
   "cell_type": "markdown",
   "metadata": {},
   "source": [
    "### Exercise 4.8: Cubes."
   ]
  },
  {
   "cell_type": "code",
   "execution_count": 20,
   "metadata": {},
   "outputs": [
    {
     "name": "stdout",
     "output_type": "stream",
     "text": [
      "1\n",
      "8\n",
      "27\n",
      "64\n",
      "125\n",
      "216\n",
      "343\n",
      "512\n",
      "729\n",
      "1000\n"
     ]
    }
   ],
   "source": [
    "cubes = []\n",
    "for number in range(1, 11):\n",
    "    cube = number**3\n",
    "    cubes.append(cube)\n",
    "\n",
    "for cube in cubes:\n",
    "    print(cube)\n"
   ]
  },
  {
   "attachments": {},
   "cell_type": "markdown",
   "metadata": {},
   "source": [
    "### Exercise 4.9: Cube comprehension."
   ]
  },
  {
   "cell_type": "code",
   "execution_count": 21,
   "metadata": {},
   "outputs": [
    {
     "name": "stdout",
     "output_type": "stream",
     "text": [
      "1\n",
      "8\n",
      "27\n",
      "64\n",
      "125\n",
      "216\n",
      "343\n",
      "512\n",
      "729\n",
      "1000\n"
     ]
    }
   ],
   "source": [
    "cubes=[number**3 for number in range(1, 11)]\n",
    "for cube in cubes:\n",
    "    print(cube)"
   ]
  },
  {
   "attachments": {},
   "cell_type": "markdown",
   "metadata": {},
   "source": [
    "### Exercise 4.10: Slices."
   ]
  },
  {
   "cell_type": "code",
   "execution_count": 22,
   "metadata": {},
   "outputs": [
    {
     "name": "stdout",
     "output_type": "stream",
     "text": [
      "First three items in the list are: ['English', 'Urdu', 'Arabic']\n",
      "Three items from the middle of the list are: ['Urdu', 'Arabic', 'French']\n",
      "Last three items in the list are: ['Arabic', 'French', 'Spanish']\n"
     ]
    }
   ],
   "source": [
    "languages=['English', 'Urdu', 'Arabic', 'French', 'Spanish']\n",
    "print(\"First three items in the list are:\", languages[:3])\n",
    "print(\"Three items from the middle of the list are:\", languages[1:4])\n",
    "print(\"Last three items in the list are:\", languages[-3:])"
   ]
  },
  {
   "attachments": {},
   "cell_type": "markdown",
   "metadata": {},
   "source": [
    "### Exercise 4.11: My pizzas, your pizzas."
   ]
  },
  {
   "cell_type": "code",
   "execution_count": 23,
   "metadata": {},
   "outputs": [
    {
     "name": "stdout",
     "output_type": "stream",
     "text": [
      "My favourite pizzas are:\n",
      "Chicken Tikka\n",
      "BBQ\n",
      "Chicken Supreme\n",
      "Mushroom\n",
      "My friend's favourite pizzas are:\n",
      "Chicken Tikka\n",
      "BBQ\n",
      "Chicken Supreme\n",
      "Pepperoni\n"
     ]
    }
   ],
   "source": [
    "favouritePizzas=['Chicken Tikka', 'BBQ', 'Chicken Supreme']\n",
    "friendPizzas=favouritePizzas[:]\n",
    "favouritePizzas.append('Mushroom')\n",
    "friendPizzas.append('Pepperoni')\n",
    "print(\"My favourite pizzas are:\")\n",
    "for pizza in favouritePizzas:\n",
    "    print(pizza)\n",
    "print(\"My friend's favourite pizzas are:\")\n",
    "for pizza in friendPizzas:\n",
    "    print(pizza)"
   ]
  },
  {
   "attachments": {},
   "cell_type": "markdown",
   "metadata": {},
   "source": [
    "### Exercise 4.13: Buffet."
   ]
  },
  {
   "cell_type": "code",
   "execution_count": 25,
   "metadata": {},
   "outputs": [
    {
     "name": "stdout",
     "output_type": "stream",
     "text": [
      "Menu items are:\n",
      "Chicken Tikka\n",
      "BBQ\n",
      "Chicken Supreme\n",
      "Mushroom\n",
      "Pepperoni\n",
      "\n",
      "We have changed our menu.\n",
      "\n",
      "New menu items are:\n",
      "Chicken Tikka\n",
      "BBQ\n",
      "Chicken Supreme\n",
      "Mushroom\n",
      "Pepperoni\n",
      "Chicken Wings\n"
     ]
    }
   ],
   "source": [
    "buffetMenu=('Chicken Tikka', 'BBQ', 'Chicken Supreme', 'Mushroom', 'Pepperoni')\n",
    "print(\"Menu items are:\")\n",
    "for food in buffetMenu:\n",
    "    print(food)\n",
    "buffetMenu=('Chicken Tikka', 'BBQ', 'Chicken Supreme', 'Mushroom', 'Pepperoni', 'Chicken Wings')\n",
    "print(\"\\nWe have changed our menu.\")\n",
    "print(\"\\nNew menu items are:\")\n",
    "for food in buffetMenu:\n",
    "    print(food)"
   ]
  }
 ],
 "metadata": {
  "kernelspec": {
   "display_name": "Python 3",
   "language": "python",
   "name": "python3"
  },
  "language_info": {
   "codemirror_mode": {
    "name": "ipython",
    "version": 3
   },
   "file_extension": ".py",
   "mimetype": "text/x-python",
   "name": "python",
   "nbconvert_exporter": "python",
   "pygments_lexer": "ipython3",
   "version": "3.11.1"
  },
  "orig_nbformat": 4
 },
 "nbformat": 4,
 "nbformat_minor": 2
}
