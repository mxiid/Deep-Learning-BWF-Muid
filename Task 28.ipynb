{
 "cells": [
  {
   "attachments": {},
   "cell_type": "markdown",
   "metadata": {},
   "source": [
    "## Task 28"
   ]
  },
  {
   "attachments": {},
   "cell_type": "markdown",
   "metadata": {},
   "source": [
    "### Instantiating A Small Covnet"
   ]
  },
  {
   "cell_type": "code",
   "execution_count": 1,
   "metadata": {},
   "outputs": [
    {
     "name": "stdout",
     "output_type": "stream",
     "text": [
      "Model: \"sequential\"\n",
      "_________________________________________________________________\n",
      " Layer (type)                Output Shape              Param #   \n",
      "=================================================================\n",
      " conv2d (Conv2D)             (None, 26, 26, 32)        320       \n",
      "                                                                 \n",
      " max_pooling2d (MaxPooling2D  (None, 13, 13, 32)       0         \n",
      " )                                                               \n",
      "                                                                 \n",
      " conv2d_1 (Conv2D)           (None, 11, 11, 64)        18496     \n",
      "                                                                 \n",
      " max_pooling2d_1 (MaxPooling  (None, 5, 5, 64)         0         \n",
      " 2D)                                                             \n",
      "                                                                 \n",
      " conv2d_2 (Conv2D)           (None, 3, 3, 64)          36928     \n",
      "                                                                 \n",
      "=================================================================\n",
      "Total params: 55,744\n",
      "Trainable params: 55,744\n",
      "Non-trainable params: 0\n",
      "_________________________________________________________________\n"
     ]
    }
   ],
   "source": [
    "from keras import layers\n",
    "from keras import models\n",
    "\n",
    "model=models.Sequential()\n",
    "model.add(layers.Conv2D(32,(3,3),activation='relu',input_shape=(28,28,1))) #(28, 28, 1) is the format of MNIST images.\n",
    "model.add(layers.MaxPooling2D(2,2))\n",
    "model.add(layers.Conv2D(64,(3,3),activation='relu'))\n",
    "model.add(layers.MaxPooling2D(2,2))\n",
    "model.add(layers.Conv2D(64,(3,3),activation='relu'))\n",
    "\n",
    "model.summary()"
   ]
  },
  {
   "attachments": {},
   "cell_type": "markdown",
   "metadata": {},
   "source": [
    "### Adding A Classifier To The Covnet"
   ]
  },
  {
   "cell_type": "code",
   "execution_count": 2,
   "metadata": {},
   "outputs": [
    {
     "name": "stdout",
     "output_type": "stream",
     "text": [
      "Model: \"sequential\"\n",
      "_________________________________________________________________\n",
      " Layer (type)                Output Shape              Param #   \n",
      "=================================================================\n",
      " conv2d (Conv2D)             (None, 26, 26, 32)        320       \n",
      "                                                                 \n",
      " max_pooling2d (MaxPooling2D  (None, 13, 13, 32)       0         \n",
      " )                                                               \n",
      "                                                                 \n",
      " conv2d_1 (Conv2D)           (None, 11, 11, 64)        18496     \n",
      "                                                                 \n",
      " max_pooling2d_1 (MaxPooling  (None, 5, 5, 64)         0         \n",
      " 2D)                                                             \n",
      "                                                                 \n",
      " conv2d_2 (Conv2D)           (None, 3, 3, 64)          36928     \n",
      "                                                                 \n",
      " flatten (Flatten)           (None, 576)               0         \n",
      "                                                                 \n",
      " dense (Dense)               (None, 64)                36928     \n",
      "                                                                 \n",
      " dense_1 (Dense)             (None, 10)                650       \n",
      "                                                                 \n",
      "=================================================================\n",
      "Total params: 93,322\n",
      "Trainable params: 93,322\n",
      "Non-trainable params: 0\n",
      "_________________________________________________________________\n"
     ]
    }
   ],
   "source": [
    "model.add(layers.Flatten()) #Flattening the 3D tensor into 1D tensor.\n",
    "model.add(layers.Dense(64,activation='relu'))\n",
    "model.add(layers.Dense(10,activation='softmax')) #10 is the number of classes in MNIST dataset.\n",
    "\n",
    "model.summary()"
   ]
  },
  {
   "attachments": {},
   "cell_type": "markdown",
   "metadata": {},
   "source": [
    "### Training The Covnet on MNIST Images"
   ]
  },
  {
   "cell_type": "code",
   "execution_count": 3,
   "metadata": {},
   "outputs": [
    {
     "name": "stdout",
     "output_type": "stream",
     "text": [
      "Epoch 1/5\n",
      "938/938 [==============================] - 30s 32ms/step - loss: 0.1789 - accuracy: 0.9441\n",
      "Epoch 2/5\n",
      "938/938 [==============================] - 31s 33ms/step - loss: 0.0460 - accuracy: 0.9858\n",
      "Epoch 3/5\n",
      "938/938 [==============================] - 30s 32ms/step - loss: 0.0325 - accuracy: 0.9905\n",
      "Epoch 4/5\n",
      "938/938 [==============================] - 31s 33ms/step - loss: 0.0244 - accuracy: 0.9924\n",
      "Epoch 5/5\n",
      "938/938 [==============================] - 29s 31ms/step - loss: 0.0186 - accuracy: 0.9941\n",
      "313/313 [==============================] - 1s 4ms/step - loss: 0.0366 - accuracy: 0.9900\n",
      "0.9900000095367432\n"
     ]
    }
   ],
   "source": [
    "from keras.datasets import mnist\n",
    "from keras.utils import to_categorical\n",
    "\n",
    "(train_img, train_label), (test_img, test_label) = mnist.load_data()\n",
    "\n",
    "train_img = train_img.reshape((60000, 28, 28, 1)) #Reshaping the training images into (60000, 28, 28, 1) format.\n",
    "train_img = train_img.astype('float32') / 255 #Normalizing the training images.\n",
    "\n",
    "test_img=test_img.reshape((10000,28,28,1)) #Reshaping the test images into (10000, 28, 28, 1) format.\n",
    "test_img=test_img.astype('float32') / 255 #Normalizing the test images.\n",
    "\n",
    "train_labels = to_categorical(train_label) #One-hot encoding the training labels.\n",
    "test_labels = to_categorical(test_label) #One-hot encoding the test labels.\n",
    "\n",
    "model.compile(optimizer='rmsprop',loss='categorical_crossentropy',metrics=['accuracy'])\n",
    "model.fit(train_img, train_labels, epochs=5, batch_size=64)\n",
    "\n",
    "test_loss, test_acc = model.evaluate(test_img, test_labels)\n",
    "print(test_acc)"
   ]
  },
  {
   "attachments": {},
   "cell_type": "markdown",
   "metadata": {},
   "source": [
    "### Copying Images to Train, Validation, and Test Directories"
   ]
  },
  {
   "cell_type": "code",
   "execution_count": 3,
   "metadata": {},
   "outputs": [
    {
     "name": "stdout",
     "output_type": "stream",
     "text": [
      "total training cat images: 1000\n",
      "total training dog images: 1000\n",
      "total validation cat images: 500\n",
      "total validation dog images: 500\n",
      "total test cat images: 500\n",
      "total test dog images: 500\n"
     ]
    }
   ],
   "source": [
    "import os, shutil\n",
    "\n",
    "original_dataset='dogs-vs-cats/train/train'\n",
    "\n",
    "base_dir='cats_and_dogs_small'\n",
    "os.mkdir(base_dir)\n",
    "\n",
    "train_dir=os.path.join(base_dir,'train')\n",
    "os.mkdir(train_dir)\n",
    "\n",
    "validation_dir=os.path.join(base_dir,'validation')\n",
    "os.mkdir(validation_dir)\n",
    "\n",
    "test_dir=os.path.join(base_dir,'test')\n",
    "os.mkdir(test_dir)\n",
    "\n",
    "train_cats_dir=os.path.join(train_dir,'cats')\n",
    "os.mkdir(train_cats_dir)\n",
    "\n",
    "train_dogs_dir=os.path.join(train_dir,'dogs')\n",
    "os.mkdir(train_dogs_dir)\n",
    "\n",
    "validation_cats_dir=os.path.join(validation_dir,'cats')\n",
    "os.mkdir(validation_cats_dir)\n",
    "\n",
    "validation_dogs_dir=os.path.join(validation_dir,'dogs')\n",
    "os.mkdir(validation_dogs_dir)\n",
    "\n",
    "test_cats_dir=os.path.join(test_dir,'cats')\n",
    "os.mkdir(test_cats_dir)\n",
    "\n",
    "test_dogs_dir=os.path.join(test_dir,'dogs')\n",
    "os.mkdir(test_dogs_dir)\n",
    "\n",
    "fnames=['cat.{}.jpg'.format(i) for i in range(1000)]\n",
    "for fname in fnames:\n",
    "    src=os.path.join(original_dataset,fname)\n",
    "    dst=os.path.join(train_cats_dir,fname)\n",
    "    shutil.copyfile(src,dst)\n",
    "\n",
    "fnames=['cat.{}.jpg'.format(i) for i in range(1000,1500)]\n",
    "for fname in fnames:\n",
    "    src=os.path.join(original_dataset,fname)\n",
    "    dst=os.path.join(validation_cats_dir,fname)\n",
    "    shutil.copyfile(src,dst)\n",
    "\n",
    "fnames=['cat.{}.jpg'.format(i) for i in range(1500,2000)]\n",
    "for fname in fnames:\n",
    "    src=os.path.join(original_dataset,fname)\n",
    "    dst=os.path.join(test_cats_dir,fname)\n",
    "    shutil.copyfile(src,dst)\n",
    "\n",
    "fnames=['dog.{}.jpg'.format(i) for i in range(1000)]\n",
    "for fname in fnames:\n",
    "    src=os.path.join(original_dataset,fname)\n",
    "    dst=os.path.join(train_dogs_dir,fname)\n",
    "    shutil.copyfile(src,dst)\n",
    "\n",
    "fnames=['dog.{}.jpg'.format(i) for i in range(1000,1500)]\n",
    "for fname in fnames:\n",
    "    src=os.path.join(original_dataset,fname)\n",
    "    dst=os.path.join(validation_dogs_dir,fname)\n",
    "    shutil.copyfile(src,dst)\n",
    "\n",
    "fnames=['dog.{}.jpg'.format(i) for i in range(1500,2000)]\n",
    "for fname in fnames:\n",
    "    src=os.path.join(original_dataset,fname)\n",
    "    dst=os.path.join(test_dogs_dir,fname)\n",
    "    shutil.copyfile(src,dst)\n",
    "\n",
    "print('total training cat images:',len(os.listdir(train_cats_dir)))\n",
    "print('total training dog images:',len(os.listdir(train_dogs_dir)))\n",
    "print('total validation cat images:',len(os.listdir(validation_cats_dir)))\n",
    "print('total validation dog images:',len(os.listdir(validation_dogs_dir)))\n",
    "print('total test cat images:',len(os.listdir(test_cats_dir)))\n",
    "print('total test dog images:',len(os.listdir(test_dogs_dir)))"
   ]
  },
  {
   "attachments": {},
   "cell_type": "markdown",
   "metadata": {},
   "source": [
    "### Instantiating A Small Convnet For Dogs vs. Cats Classification"
   ]
  },
  {
   "cell_type": "code",
   "execution_count": 5,
   "metadata": {},
   "outputs": [
    {
     "name": "stdout",
     "output_type": "stream",
     "text": [
      "Model: \"sequential\"\n",
      "_________________________________________________________________\n",
      " Layer (type)                Output Shape              Param #   \n",
      "=================================================================\n",
      " conv2d (Conv2D)             (None, 148, 148, 32)      896       \n",
      "                                                                 \n",
      " max_pooling2d (MaxPooling2D  (None, 74, 74, 32)       0         \n",
      " )                                                               \n",
      "                                                                 \n",
      " conv2d_1 (Conv2D)           (None, 72, 72, 64)        18496     \n",
      "                                                                 \n",
      " max_pooling2d_1 (MaxPooling  (None, 36, 36, 64)       0         \n",
      " 2D)                                                             \n",
      "                                                                 \n",
      " conv2d_2 (Conv2D)           (None, 34, 34, 128)       73856     \n",
      "                                                                 \n",
      " max_pooling2d_2 (MaxPooling  (None, 17, 17, 128)      0         \n",
      " 2D)                                                             \n",
      "                                                                 \n",
      " conv2d_3 (Conv2D)           (None, 15, 15, 128)       147584    \n",
      "                                                                 \n",
      " max_pooling2d_3 (MaxPooling  (None, 7, 7, 128)        0         \n",
      " 2D)                                                             \n",
      "                                                                 \n",
      " flatten (Flatten)           (None, 6272)              0         \n",
      "                                                                 \n",
      " dense (Dense)               (None, 512)               3211776   \n",
      "                                                                 \n",
      " dense_1 (Dense)             (None, 1)                 513       \n",
      "                                                                 \n",
      "=================================================================\n",
      "Total params: 3,453,121\n",
      "Trainable params: 3,453,121\n",
      "Non-trainable params: 0\n",
      "_________________________________________________________________\n"
     ]
    }
   ],
   "source": [
    "from keras import layers\n",
    "from keras import models\n",
    "\n",
    "model=models.Sequential()\n",
    "model.add(layers.Conv2D(32,(3,3), activation='relu', input_shape=(150,150,3)))\n",
    "model.add(layers.MaxPooling2D(2,2))\n",
    "model.add(layers.Conv2D(64,(3,3), activation='relu'))\n",
    "model.add(layers.MaxPooling2D(2,2))\n",
    "model.add(layers.Conv2D(128,(3,3), activation='relu'))\n",
    "model.add(layers.MaxPooling2D(2,2))\n",
    "model.add(layers.Conv2D(128,(3,3), activation='relu'))\n",
    "model.add(layers.MaxPooling2D(2,2))\n",
    "model.add(layers.Flatten())\n",
    "model.add(layers.Dense(512,activation='relu'))\n",
    "model.add(layers.Dense(1,activation='sigmoid'))\n",
    "\n",
    "model.summary()"
   ]
  },
  {
   "attachments": {},
   "cell_type": "markdown",
   "metadata": {},
   "source": [
    "### Configuring The Model For Training"
   ]
  },
  {
   "cell_type": "code",
   "execution_count": 7,
   "metadata": {},
   "outputs": [],
   "source": [
    "from keras import optimizers\n",
    "\n",
    "model.compile(loss='binary_crossentropy',optimizer=optimizers.RMSprop(learning_rate=1e-4),metrics=['acc'])"
   ]
  },
  {
   "attachments": {},
   "cell_type": "markdown",
   "metadata": {},
   "source": [
    "### Using `ImageDataGenerator` To Read Images From Directories"
   ]
  },
  {
   "cell_type": "code",
   "execution_count": 9,
   "metadata": {},
   "outputs": [
    {
     "name": "stdout",
     "output_type": "stream",
     "text": [
      "Found 2000 images belonging to 2 classes.\n",
      "Found 1000 images belonging to 2 classes.\n",
      "data batch shape: (20, 150, 150, 3)\n",
      "labels batch shape: (20,)\n"
     ]
    }
   ],
   "source": [
    "from keras.preprocessing.image import ImageDataGenerator\n",
    "\n",
    "train_datagen=ImageDataGenerator(rescale=1./255)\n",
    "test_datagen=ImageDataGenerator(rescale=1./255)\n",
    "\n",
    "train_generator=train_datagen.flow_from_directory(train_dir,target_size=(150,150),batch_size=20,class_mode='binary')\n",
    "\n",
    "validation_generator=test_datagen.flow_from_directory(validation_dir,target_size=(150,150),batch_size=20,class_mode='binary')\n",
    "\n",
    "for data_batch, labels_batch in train_generator:\n",
    "    print('data batch shape:',data_batch.shape)\n",
    "    print('labels batch shape:',labels_batch.shape)\n",
    "    break\n"
   ]
  },
  {
   "attachments": {},
   "cell_type": "markdown",
   "metadata": {},
   "source": [
    "### Fitting The Model Using A Batch Generator"
   ]
  },
  {
   "cell_type": "code",
   "execution_count": 10,
   "metadata": {},
   "outputs": [
    {
     "name": "stderr",
     "output_type": "stream",
     "text": [
      "C:\\Users\\abdul\\AppData\\Local\\Temp\\ipykernel_5348\\3697243963.py:1: UserWarning: `Model.fit_generator` is deprecated and will be removed in a future version. Please use `Model.fit`, which supports generators.\n",
      "  history=model.fit_generator(train_generator,steps_per_epoch=100,epochs=30,validation_data=validation_generator,validation_steps=50)\n"
     ]
    },
    {
     "name": "stdout",
     "output_type": "stream",
     "text": [
      "Epoch 1/30\n",
      "100/100 [==============================] - 85s 839ms/step - loss: 0.6916 - acc: 0.5315 - val_loss: 0.6858 - val_acc: 0.5280\n",
      "Epoch 2/30\n",
      "100/100 [==============================] - 79s 787ms/step - loss: 0.6679 - acc: 0.5770 - val_loss: 0.6523 - val_acc: 0.6370\n",
      "Epoch 3/30\n",
      "100/100 [==============================] - 71s 712ms/step - loss: 0.6230 - acc: 0.6580 - val_loss: 0.6391 - val_acc: 0.6280\n",
      "Epoch 4/30\n",
      "100/100 [==============================] - 71s 714ms/step - loss: 0.5731 - acc: 0.6935 - val_loss: 0.5861 - val_acc: 0.6790\n",
      "Epoch 5/30\n",
      "100/100 [==============================] - 71s 711ms/step - loss: 0.5368 - acc: 0.7270 - val_loss: 0.6427 - val_acc: 0.6660\n",
      "Epoch 6/30\n",
      "100/100 [==============================] - 72s 716ms/step - loss: 0.5047 - acc: 0.7525 - val_loss: 0.5724 - val_acc: 0.7010\n",
      "Epoch 7/30\n",
      "100/100 [==============================] - 70s 699ms/step - loss: 0.4707 - acc: 0.7700 - val_loss: 0.5580 - val_acc: 0.7020\n",
      "Epoch 8/30\n",
      "100/100 [==============================] - 71s 710ms/step - loss: 0.4501 - acc: 0.7890 - val_loss: 0.5425 - val_acc: 0.7190\n",
      "Epoch 9/30\n",
      "100/100 [==============================] - 71s 710ms/step - loss: 0.4107 - acc: 0.8125 - val_loss: 0.6872 - val_acc: 0.6790\n",
      "Epoch 10/30\n",
      "100/100 [==============================] - 71s 715ms/step - loss: 0.3830 - acc: 0.8255 - val_loss: 0.5875 - val_acc: 0.7100\n",
      "Epoch 11/30\n",
      "100/100 [==============================] - 71s 711ms/step - loss: 0.3655 - acc: 0.8430 - val_loss: 0.5530 - val_acc: 0.7320\n",
      "Epoch 12/30\n",
      "100/100 [==============================] - 71s 711ms/step - loss: 0.3337 - acc: 0.8575 - val_loss: 0.5598 - val_acc: 0.7320\n",
      "Epoch 13/30\n",
      "100/100 [==============================] - 71s 714ms/step - loss: 0.3096 - acc: 0.8620 - val_loss: 0.5659 - val_acc: 0.7300\n",
      "Epoch 14/30\n",
      "100/100 [==============================] - 73s 726ms/step - loss: 0.2879 - acc: 0.8860 - val_loss: 0.5729 - val_acc: 0.7310\n",
      "Epoch 15/30\n",
      "100/100 [==============================] - 72s 721ms/step - loss: 0.2665 - acc: 0.8905 - val_loss: 0.5672 - val_acc: 0.7300\n",
      "Epoch 16/30\n",
      "100/100 [==============================] - 74s 736ms/step - loss: 0.2376 - acc: 0.9045 - val_loss: 0.5837 - val_acc: 0.7290\n",
      "Epoch 17/30\n",
      "100/100 [==============================] - 72s 717ms/step - loss: 0.2187 - acc: 0.9135 - val_loss: 0.6301 - val_acc: 0.7340\n",
      "Epoch 18/30\n",
      "100/100 [==============================] - 71s 712ms/step - loss: 0.1964 - acc: 0.9175 - val_loss: 0.6484 - val_acc: 0.7220\n",
      "Epoch 19/30\n",
      "100/100 [==============================] - 71s 710ms/step - loss: 0.1732 - acc: 0.9350 - val_loss: 0.6623 - val_acc: 0.7430\n",
      "Epoch 20/30\n",
      "100/100 [==============================] - 70s 703ms/step - loss: 0.1573 - acc: 0.9440 - val_loss: 0.7005 - val_acc: 0.7330\n",
      "Epoch 21/30\n",
      "100/100 [==============================] - 71s 707ms/step - loss: 0.1275 - acc: 0.9620 - val_loss: 0.6850 - val_acc: 0.7350\n",
      "Epoch 22/30\n",
      "100/100 [==============================] - 71s 707ms/step - loss: 0.1189 - acc: 0.9575 - val_loss: 0.7639 - val_acc: 0.7270\n",
      "Epoch 23/30\n",
      "100/100 [==============================] - 72s 716ms/step - loss: 0.1005 - acc: 0.9695 - val_loss: 0.7763 - val_acc: 0.7210\n",
      "Epoch 24/30\n",
      "100/100 [==============================] - 71s 707ms/step - loss: 0.0853 - acc: 0.9755 - val_loss: 0.8161 - val_acc: 0.7260\n",
      "Epoch 25/30\n",
      "100/100 [==============================] - 76s 759ms/step - loss: 0.0759 - acc: 0.9770 - val_loss: 0.8590 - val_acc: 0.7400\n",
      "Epoch 26/30\n",
      "100/100 [==============================] - 79s 790ms/step - loss: 0.0641 - acc: 0.9785 - val_loss: 0.9108 - val_acc: 0.7310\n",
      "Epoch 27/30\n",
      "100/100 [==============================] - 70s 701ms/step - loss: 0.0591 - acc: 0.9825 - val_loss: 0.9349 - val_acc: 0.7350\n",
      "Epoch 28/30\n",
      "100/100 [==============================] - 70s 702ms/step - loss: 0.0427 - acc: 0.9905 - val_loss: 1.0211 - val_acc: 0.7220\n",
      "Epoch 29/30\n",
      "100/100 [==============================] - 70s 703ms/step - loss: 0.0393 - acc: 0.9925 - val_loss: 1.0166 - val_acc: 0.7320\n",
      "Epoch 30/30\n",
      "100/100 [==============================] - 70s 702ms/step - loss: 0.0359 - acc: 0.9890 - val_loss: 1.0288 - val_acc: 0.7500\n"
     ]
    }
   ],
   "source": [
    "history=model.fit_generator(train_generator,steps_per_epoch=100,epochs=30,validation_data=validation_generator,validation_steps=50)\n"
   ]
  },
  {
   "attachments": {},
   "cell_type": "markdown",
   "metadata": {},
   "source": [
    "### Saving The Model"
   ]
  },
  {
   "cell_type": "code",
   "execution_count": 11,
   "metadata": {},
   "outputs": [],
   "source": [
    "model.save('cats_and_dogs_small_1.h5')"
   ]
  },
  {
   "attachments": {},
   "cell_type": "markdown",
   "metadata": {},
   "source": [
    "### Displaying Some Curves"
   ]
  },
  {
   "cell_type": "code",
   "execution_count": 12,
   "metadata": {},
   "outputs": [
    {
     "data": {
      "image/png": "[encoded data removed]",
      "text/plain": [
       "<Figure size 640x480 with 1 Axes>"
      ]
     },
     "metadata": {},
     "output_type": "display_data"
    },
    {
     "data": {
      "image/png": "[encoded data removed]",
      "text/plain": [
       "<Figure size 640x480 with 1 Axes>"
      ]
     },
     "metadata": {},
     "output_type": "display_data"
    }
   ],
   "source": [
    "import matplotlib.pyplot as plt\n",
    "\n",
    "acc=history.history['acc']\n",
    "val_acc=history.history['val_acc']\n",
    "loss=history.history['loss']\n",
    "val_loss=history.history['val_loss']\n",
    "\n",
    "epochs=range(1,len(acc)+1)\n",
    "\n",
    "plt.plot(epochs,acc,'bo',label='Training acc')\n",
    "plt.plot(epochs,val_acc,'b',label='Validation acc')\n",
    "plt.title('Training and validation accuracy')\n",
    "plt.legend()\n",
    "\n",
    "plt.figure()\n",
    "\n",
    "plt.plot(epochs,loss,'bo',label='Training loss')\n",
    "plt.plot(epochs,val_loss,'b',label='Validation loss')\n",
    "plt.title('Training and validation loss')\n",
    "plt.legend()\n",
    "\n",
    "plt.show()"
   ]
  }
 ],
 "metadata": {
  "kernelspec": {
   "display_name": "Python 3",
   "language": "python",
   "name": "python3"
  },
  "language_info": {
   "codemirror_mode": {
    "name": "ipython",
    "version": 3
   },
   "file_extension": ".py",
   "mimetype": "text/x-python",
   "name": "python",
   "nbconvert_exporter": "python",
   "pygments_lexer": "ipython3",
   "version": "3.11.1"
  },
  "orig_nbformat": 4
 },
 "nbformat": 4,
 "nbformat_minor": 2
}
